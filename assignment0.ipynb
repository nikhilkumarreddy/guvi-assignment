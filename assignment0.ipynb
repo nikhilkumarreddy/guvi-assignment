{
  "nbformat": 4,
  "nbformat_minor": 0,
  "metadata": {
    "colab": {
      "name": "assignment0.ipynb",
      "provenance": [],
      "collapsed_sections": []
    },
    "kernelspec": {
      "name": "python3",
      "display_name": "Python 3"
    },
    "language_info": {
      "name": "python"
    }
  },
  "cells": [
    {
      "cell_type": "code",
      "metadata": {
        "id": "D7F7tV4dUagf"
      },
      "source": [
        "import re   \n",
        "\n",
        "\n",
        "regex = '^[a-z0-9]+[\\._]?[a-z0-9]+[@]\\w+[.]\\w{2,3}$'  \n",
        "def check_email(email):   \n",
        "    if(re.search(regex,email)):   \n",
        "        return True\n",
        "    else:   \n",
        "        return False"
      ],
      "execution_count": null,
      "outputs": []
    },
    {
      "cell_type": "code",
      "metadata": {
        "id": "WoHStnhqVWUE"
      },
      "source": [
        "def check_password(password):\n",
        "\n",
        "  def password_has_special_characters(password):\n",
        "      regex = re.compile('[@_!#$%^&*()<>?/\\|}{~:]')\n",
        "      if(regex.search(password) == None):\n",
        "        return False\n",
        "      else:\n",
        "        return True\n",
        "\n",
        "  def password_has_number(password):\n",
        "    password = [i for i in password]\n",
        "    any_numbers = []\n",
        "    for i in password:\n",
        "      if i.isdigit():\n",
        "        any_numbers.append(True)\n",
        "      else:\n",
        "        any_numbers.append(False)\n",
        "    return any(any_numbers)\n",
        "\n",
        "  def password_has_uppercase(password):\n",
        "    password = [i for i in password]\n",
        "    any_upper = []\n",
        "    for i in password:\n",
        "      if i.isupper():\n",
        "        any_upper.append(True)\n",
        "      else:\n",
        "        any_upper.append(False)\n",
        "    return any(any_upper)\n",
        "\n",
        "  def password_has_lower(password):\n",
        "    password = [i for i in password]\n",
        "    any_lower = []\n",
        "    for i in password:\n",
        "      if i.islower():\n",
        "        any_lower.append(True)\n",
        "      else:\n",
        "        any_lower.append(False)\n",
        "    return any(any_lower)\n",
        "\n",
        "  if password_has_special_characters(password) and\\\n",
        "     password_has_number(password) and \\\n",
        "     password_has_lower(password) and \\\n",
        "     password_has_uppercase(password):\n",
        "    return True\n",
        "  else:\n",
        "    return False"
      ],
      "execution_count": null,
      "outputs": []
    },
    {
      "cell_type": "code",
      "metadata": {
        "colab": {
          "base_uri": "https://localhost:8080/"
        },
        "id": "RdoRuhn5Qece",
        "outputId": "708c89f7-eb09-44ba-e2f6-ba2334b4381b"
      },
      "source": [
        "print(\"For Register enter 1 \\n FOr login Enter 2 \\n For forgot password Enter 3\")\n",
        "inputs = int(input())\n",
        "\n",
        "\n",
        "if inputs == 1:\n",
        "  email = input(\"Enter your correct email id\")\n",
        "  password = input(\"\"\"Enter your password \n",
        "  Must have minimum one special character,\n",
        "  one digit,\n",
        "  one uppercase,\n",
        "  one lowercase character\\n\"\"\")\n",
        "\n",
        "  if check_email(email) and check_password(password):\n",
        "    f = open(\"username_and_password.txt\", \"a\")\n",
        "    f.write(str(email)+\" \"+str(password)+\" \")\n",
        "    f.close()\n",
        "    print(\"Login is sucessfull\")\n",
        "  else:\n",
        "    print(\"Enter correct email or Enter passwords as per constraints\")\n",
        "  \n",
        "if inputs == 2:\n",
        "    email = input(\"enter email\")\n",
        "    password = input(\"enter password\")\n",
        "    k = open(\"username_and_password.txt\", \"r\")\n",
        "    all = k.read()\n",
        "    all = all.split(\" \")  \n",
        "    if email and password  in all:\n",
        "      print(\"login sucessfull\")\n",
        "    else:\n",
        "      print(\"enter correct password or register \")\n",
        "\n",
        "if inputs == 3:\n",
        "    email = input(\"Enter your email to get your password :- \")\n",
        "    f = open(\"username_and_password.txt\", \"r\")\n",
        "    all = f.read()\n",
        "    all = all.split(\" \")\n",
        "    for i in range(0 , len(all),2):\n",
        "      if all[i] == email:\n",
        "        print(\"your password is \",all[i+1])\n",
        "        break\n",
        "    if email not in all:\n",
        "      print(\"not password not found associated with our email\")\n",
        "\n",
        "    \n",
        "    \n",
        "\n"
      ],
      "execution_count": null,
      "outputs": [
        {
          "output_type": "stream",
          "text": [
            "For Register enter 1 \n",
            " FOr login Enter 2 \n",
            " For forgot password Enter 3\n",
            "3\n",
            "Enter your email to get your password :- kutty@gmail.com\n",
            "your password is  Kutty@321\n"
          ],
          "name": "stdout"
        }
      ]
    },
    {
      "cell_type": "code",
      "metadata": {
        "colab": {
          "base_uri": "https://localhost:8080/"
        },
        "id": "HWOmLt1PfOjy",
        "outputId": "3017e50e-8150-4cfd-fed7-084bc590dc56"
      },
      "source": [
        "k = open(\"username_and_password.txt\", \"r\")\n",
        "all = k.read()\n",
        "all = all.split(\" \") \n",
        "print(all)"
      ],
      "execution_count": null,
      "outputs": [
        {
          "output_type": "stream",
          "text": [
            "['nikhil@gmail.com', 'Nikhil@321', 'nikhil@gmail.com', 'Nikhil@321', 'nikhil@gmail.com', 'Nikhil@321', 'kutty@gmail.com', 'Kutty@321', '']\n"
          ],
          "name": "stdout"
        }
      ]
    },
    {
      "cell_type": "code",
      "metadata": {
        "id": "2tdppE7RZ1MV"
      },
      "source": [
        ""
      ],
      "execution_count": null,
      "outputs": []
    }
  ]
}