{
  "nbformat": 4,
  "nbformat_minor": 0,
  "metadata": {
    "kernelspec": {
      "display_name": "Python 3",
      "language": "python",
      "name": "python3"
    },
    "language_info": {
      "codemirror_mode": {
        "name": "ipython",
        "version": 3
      },
      "file_extension": ".py",
      "mimetype": "text/x-python",
      "name": "python",
      "nbconvert_exporter": "python",
      "pygments_lexer": "ipython3",
      "version": "3.8.3"
    },
    "colab": {
      "name": "Copy of Numpy_tasks.ipynb",
      "provenance": [],
      "collapsed_sections": []
    }
  },
  "cells": [
    {
      "cell_type": "markdown",
      "metadata": {
        "id": "ZiqX4uNeKUwg"
      },
      "source": [
        "# Numpy\n",
        "\n"
      ]
    },
    {
      "cell_type": "markdown",
      "metadata": {
        "id": "9cJigko5KUwh"
      },
      "source": [
        "#### 1. Import the numpy package under the name `np` (★☆☆) \n",
        "(**hint**: import … as …)"
      ]
    },
    {
      "cell_type": "code",
      "metadata": {
        "collapsed": true,
        "id": "9mdCIOUeKUwh"
      },
      "source": [
        "import numpy as np"
      ],
      "execution_count": 2,
      "outputs": []
    },
    {
      "cell_type": "markdown",
      "metadata": {
        "id": "WXLxBg7qKUwi"
      },
      "source": [
        "#### 2. Print the numpy version and the configuration (★☆☆) \n",
        "(**hint**: np.\\_\\_version\\_\\_, np.show\\_config)"
      ]
    },
    {
      "cell_type": "code",
      "metadata": {
        "colab": {
          "base_uri": "https://localhost:8080/"
        },
        "id": "vyIel0TRKUwi",
        "outputId": "adc46cf6-7ec8-4913-fd16-b9a4511d13c6"
      },
      "source": [
        "print(np.__version__)"
      ],
      "execution_count": null,
      "outputs": [
        {
          "output_type": "stream",
          "text": [
            "1.19.5\n"
          ],
          "name": "stdout"
        }
      ]
    },
    {
      "cell_type": "markdown",
      "metadata": {
        "id": "BCUYhVOyKUwi"
      },
      "source": [
        "#### 3. Create a null vector of size 10 (★☆☆) \n",
        "(**hint**: np.zeros)"
      ]
    },
    {
      "cell_type": "code",
      "metadata": {
        "colab": {
          "base_uri": "https://localhost:8080/"
        },
        "id": "q_tGm77BKUwj",
        "outputId": "e621416b-af18-4a32-ff55-ba6c190eea8c"
      },
      "source": [
        "print(np.zeros(10))"
      ],
      "execution_count": null,
      "outputs": [
        {
          "output_type": "stream",
          "text": [
            "[0. 0. 0. 0. 0. 0. 0. 0. 0. 0.]\n"
          ],
          "name": "stdout"
        }
      ]
    },
    {
      "cell_type": "markdown",
      "metadata": {
        "id": "VaTa_4wLKUwj"
      },
      "source": [
        "#### 4.  How to find the memory size of any array (★☆☆) \n",
        "(**hint**: size, itemsize)"
      ]
    },
    {
      "cell_type": "code",
      "metadata": {
        "colab": {
          "base_uri": "https://localhost:8080/"
        },
        "id": "nOsOFe9HKUwk",
        "outputId": "56ba21c3-f738-40b2-fa4d-e0fcd0af1ec2"
      },
      "source": [
        "arr = np.random.randint(1,10,(4,4))\n",
        "\n",
        "print(arr.itemsize * arr.size)"
      ],
      "execution_count": null,
      "outputs": [
        {
          "output_type": "stream",
          "text": [
            "128\n"
          ],
          "name": "stdout"
        }
      ]
    },
    {
      "cell_type": "markdown",
      "metadata": {
        "id": "ri-Q1WWOKUwk"
      },
      "source": [
        "#### 5.  How to get the documentation of the numpy add function from the command line? (★☆☆) \n",
        "(**hint**: np.info)"
      ]
    },
    {
      "cell_type": "code",
      "metadata": {
        "collapsed": true,
        "colab": {
          "base_uri": "https://localhost:8080/"
        },
        "id": "9CTuG9tBKUwk",
        "outputId": "038397b6-c8d2-435a-85a1-cf2af6514e81"
      },
      "source": [
        "print(np.info(np.add))"
      ],
      "execution_count": null,
      "outputs": [
        {
          "output_type": "stream",
          "text": [
            "None\n"
          ],
          "name": "stdout"
        }
      ]
    },
    {
      "cell_type": "markdown",
      "metadata": {
        "id": "nGCfr29UKUwk"
      },
      "source": [
        "#### 6.  Create a null vector of size 10 but the fifth value which is 1 (★☆☆) \n",
        "(**hint**: array\\[4\\])"
      ]
    },
    {
      "cell_type": "code",
      "metadata": {
        "colab": {
          "base_uri": "https://localhost:8080/"
        },
        "id": "T5ujy-JnKUwl",
        "outputId": "81f00dfb-34e4-4b45-af1e-2c74c15ccea5"
      },
      "source": [
        "arr = np.zeros(10)\n",
        "arr[4] = 1\n",
        "print(arr)"
      ],
      "execution_count": null,
      "outputs": [
        {
          "output_type": "stream",
          "text": [
            "[0. 0. 0. 0. 1. 0. 0. 0. 0. 0.]\n"
          ],
          "name": "stdout"
        }
      ]
    },
    {
      "cell_type": "markdown",
      "metadata": {
        "id": "kLBMrn-tKUwl"
      },
      "source": [
        "#### 7.  Create a vector with values ranging from 10 to 49 (★☆☆) \n",
        "(**hint**: np.arange)"
      ]
    },
    {
      "cell_type": "code",
      "metadata": {
        "colab": {
          "base_uri": "https://localhost:8080/"
        },
        "id": "Aw1fvlmeKUwl",
        "outputId": "d96e4165-2436-461b-e484-4d1a950bc2f1"
      },
      "source": [
        "arr = np.arange(10,50)\n",
        "print(arr)"
      ],
      "execution_count": null,
      "outputs": [
        {
          "output_type": "stream",
          "text": [
            "[10 11 12 13 14 15 16 17 18 19 20 21 22 23 24 25 26 27 28 29 30 31 32 33\n",
            " 34 35 36 37 38 39 40 41 42 43 44 45 46 47 48 49]\n"
          ],
          "name": "stdout"
        }
      ]
    },
    {
      "cell_type": "markdown",
      "metadata": {
        "id": "MUHfJsjDKUwm"
      },
      "source": [
        "#### 8.  Reverse a vector (first element becomes last) (★☆☆) \n",
        "(**hint**: array\\[::-1\\])"
      ]
    },
    {
      "cell_type": "code",
      "metadata": {
        "colab": {
          "base_uri": "https://localhost:8080/"
        },
        "id": "tz52n4WfKUwm",
        "outputId": "ef6469a7-2af1-4f11-840f-40e8bd925e82"
      },
      "source": [
        "print(arr[::-1])"
      ],
      "execution_count": null,
      "outputs": [
        {
          "output_type": "stream",
          "text": [
            "[49 48 47 46 45 44 43 42 41 40 39 38 37 36 35 34 33 32 31 30 29 28 27 26\n",
            " 25 24 23 22 21 20 19 18 17 16 15 14 13 12 11 10]\n"
          ],
          "name": "stdout"
        }
      ]
    },
    {
      "cell_type": "markdown",
      "metadata": {
        "id": "zJg9NPP8KUwm"
      },
      "source": [
        "#### 9.  Create a 3x3 matrix with values ranging from 0 to 8 (★☆☆) \n",
        "(**hint**: reshape)"
      ]
    },
    {
      "cell_type": "code",
      "metadata": {
        "colab": {
          "base_uri": "https://localhost:8080/"
        },
        "id": "MjkXsZ4wKUwm",
        "outputId": "85846286-ff43-424e-efe7-2dde29732832"
      },
      "source": [
        "arr = np.arange(0,9).reshape(3,3)\n",
        "print(arr)"
      ],
      "execution_count": null,
      "outputs": [
        {
          "output_type": "stream",
          "text": [
            "[[0 1 2]\n",
            " [3 4 5]\n",
            " [6 7 8]]\n"
          ],
          "name": "stdout"
        }
      ]
    },
    {
      "cell_type": "markdown",
      "metadata": {
        "id": "Ltk_Iw50KUwn"
      },
      "source": [
        "#### 10. Find indices of non-zero elements from \\[1,2,0,0,4,0\\] (★☆☆) \n",
        "(**hint**: np.nonzero)"
      ]
    },
    {
      "cell_type": "code",
      "metadata": {
        "colab": {
          "base_uri": "https://localhost:8080/"
        },
        "id": "W4BICKnrKUwn",
        "outputId": "273b4f4a-9ed2-4e72-a7c7-a96d25b05362"
      },
      "source": [
        "arr = np.array([1,2,0,0,4,0])\n",
        "print(np.nonzero(arr))"
      ],
      "execution_count": null,
      "outputs": [
        {
          "output_type": "stream",
          "text": [
            "(array([0, 1, 4]),)\n"
          ],
          "name": "stdout"
        }
      ]
    },
    {
      "cell_type": "markdown",
      "metadata": {
        "id": "hKSAAwwVKUwn"
      },
      "source": [
        "#### 11. Create a 3x3 identity matrix (★☆☆) \n",
        "(**hint**: np.eye)"
      ]
    },
    {
      "cell_type": "code",
      "metadata": {
        "colab": {
          "base_uri": "https://localhost:8080/"
        },
        "id": "MAsObbFmKUwn",
        "outputId": "8b0f5ca1-4e63-4fdc-be57-bb55f3234a16"
      },
      "source": [
        "print(np.eye(3,3))"
      ],
      "execution_count": null,
      "outputs": [
        {
          "output_type": "stream",
          "text": [
            "[[1. 0. 0.]\n",
            " [0. 1. 0.]\n",
            " [0. 0. 1.]]\n"
          ],
          "name": "stdout"
        }
      ]
    },
    {
      "cell_type": "markdown",
      "metadata": {
        "id": "xWuADhogKUwn"
      },
      "source": [
        "#### 12. Create a 3x3x3 array with random values (★☆☆) \n",
        "(**hint**: np.random.random)"
      ]
    },
    {
      "cell_type": "code",
      "metadata": {
        "collapsed": true,
        "colab": {
          "base_uri": "https://localhost:8080/"
        },
        "id": "5oSP25kjKUwo",
        "outputId": "6ed78e42-8f95-46e5-c6ce-9e3fde4e2fdf"
      },
      "source": [
        "arr = np.random.randint(1,10,(3,3,3))\n",
        "print(arr)"
      ],
      "execution_count": null,
      "outputs": [
        {
          "output_type": "stream",
          "text": [
            "[[[2 3 5]\n",
            "  [6 7 3]\n",
            "  [2 3 3]]\n",
            "\n",
            " [[8 1 6]\n",
            "  [1 7 6]\n",
            "  [4 4 9]]\n",
            "\n",
            " [[5 8 9]\n",
            "  [1 6 8]\n",
            "  [9 1 4]]]\n"
          ],
          "name": "stdout"
        }
      ]
    },
    {
      "cell_type": "markdown",
      "metadata": {
        "id": "8p2lFYSmKUwo"
      },
      "source": [
        "#### 13. Create a 10x10 array with random values and find the minimum and maximum values (★☆☆) \n",
        "(**hint**: min, max)"
      ]
    },
    {
      "cell_type": "code",
      "metadata": {
        "colab": {
          "base_uri": "https://localhost:8080/"
        },
        "id": "kfNMaCy9KUwo",
        "outputId": "d1cbc1f9-bd50-487b-a8b6-4a83cf5717df"
      },
      "source": [
        "arr = np.random.randint(10,100,(10,10))\n",
        "print(np.min(arr))\n",
        "print(np.max(arr))"
      ],
      "execution_count": null,
      "outputs": [
        {
          "output_type": "stream",
          "text": [
            "10\n",
            "99\n"
          ],
          "name": "stdout"
        }
      ]
    },
    {
      "cell_type": "markdown",
      "metadata": {
        "id": "uJS19iD5KUwo"
      },
      "source": [
        "#### 14. Create a random vector of size 30 and find the mean value (★☆☆) \n",
        "(**hint**: mean)"
      ]
    },
    {
      "cell_type": "code",
      "metadata": {
        "colab": {
          "base_uri": "https://localhost:8080/"
        },
        "id": "Mm9LKzTVKUwo",
        "outputId": "c2310b1a-a47e-4dce-898b-953ad74bd91e"
      },
      "source": [
        "arr = np.random.randint(0,10,(30))\n",
        "print(np.mean(arr))"
      ],
      "execution_count": null,
      "outputs": [
        {
          "output_type": "stream",
          "text": [
            "4.6\n"
          ],
          "name": "stdout"
        }
      ]
    },
    {
      "cell_type": "markdown",
      "metadata": {
        "id": "2vT1-pOYKUwp"
      },
      "source": [
        "#### 15. Create a 2d array with 1 on the border and 0 inside (★☆☆) \n",
        "(**hint**: array\\[1:-1, 1:-1\\])"
      ]
    },
    {
      "cell_type": "code",
      "metadata": {
        "colab": {
          "base_uri": "https://localhost:8080/"
        },
        "id": "b2SNI56SKUwp",
        "outputId": "acbb553f-6ec1-4fb1-f1f1-f6f5d556d834"
      },
      "source": [
        "arr = np.ones((10,10))\n",
        "arr[1:-1, 1:-1] = 0\n",
        "print(arr)"
      ],
      "execution_count": null,
      "outputs": [
        {
          "output_type": "stream",
          "text": [
            "[[1. 1. 1. 1. 1. 1. 1. 1. 1. 1.]\n",
            " [1. 0. 0. 0. 0. 0. 0. 0. 0. 1.]\n",
            " [1. 0. 0. 0. 0. 0. 0. 0. 0. 1.]\n",
            " [1. 0. 0. 0. 0. 0. 0. 0. 0. 1.]\n",
            " [1. 0. 0. 0. 0. 0. 0. 0. 0. 1.]\n",
            " [1. 0. 0. 0. 0. 0. 0. 0. 0. 1.]\n",
            " [1. 0. 0. 0. 0. 0. 0. 0. 0. 1.]\n",
            " [1. 0. 0. 0. 0. 0. 0. 0. 0. 1.]\n",
            " [1. 0. 0. 0. 0. 0. 0. 0. 0. 1.]\n",
            " [1. 1. 1. 1. 1. 1. 1. 1. 1. 1.]]\n"
          ],
          "name": "stdout"
        }
      ]
    },
    {
      "cell_type": "markdown",
      "metadata": {
        "id": "Q1iDTpRbKUwp"
      },
      "source": [
        "#### 16. How to add a border (filled with 0's) around an existing array? (★☆☆) \n",
        "(**hint**: np.pad)"
      ]
    },
    {
      "cell_type": "code",
      "metadata": {
        "id": "5mMcqDdbKUwp",
        "colab": {
          "base_uri": "https://localhost:8080/"
        },
        "outputId": "9a6b596b-7ea4-441d-d46d-62c8a6de2dab"
      },
      "source": [
        " z = np.ones((5,5))\n",
        "\n",
        " np.pad(z, (1,1) ,  'constant', constant_values= 0 )"
      ],
      "execution_count": null,
      "outputs": [
        {
          "output_type": "execute_result",
          "data": {
            "text/plain": [
              "array([[0., 0., 0., 0., 0., 0., 0.],\n",
              "       [0., 1., 1., 1., 1., 1., 0.],\n",
              "       [0., 1., 1., 1., 1., 1., 0.],\n",
              "       [0., 1., 1., 1., 1., 1., 0.],\n",
              "       [0., 1., 1., 1., 1., 1., 0.],\n",
              "       [0., 1., 1., 1., 1., 1., 0.],\n",
              "       [0., 0., 0., 0., 0., 0., 0.]])"
            ]
          },
          "metadata": {
            "tags": []
          },
          "execution_count": 47
        }
      ]
    },
    {
      "cell_type": "markdown",
      "metadata": {
        "id": "ne0aBQ22KUwp"
      },
      "source": [
        "#### 17. What is the result of the following expression? (★☆☆) \n",
        "(**hint**: NaN = not a number, inf = infinity)"
      ]
    },
    {
      "cell_type": "markdown",
      "metadata": {
        "id": "sCiv964EKUwq"
      },
      "source": [
        "```python\n",
        "0 * np.nan\n",
        "np.nan == np.nan\n",
        "np.inf > np.nan\n",
        "np.nan - np.nan\n",
        "0.3 == 3 * 0.1\n",
        "```"
      ]
    },
    {
      "cell_type": "code",
      "metadata": {
        "colab": {
          "base_uri": "https://localhost:8080/"
        },
        "id": "b63JVbVUKUwq",
        "outputId": "c0140ca2-f744-40d1-e12a-9de2481d2237"
      },
      "source": [
        "print(0 * np.nan)\n",
        "print(np.nan == np.nan)\n",
        "print(np.inf > np.nan)\n",
        "print(np.nan - np.nan)\n",
        "print(0.3 == 3 * 0.1)\n"
      ],
      "execution_count": null,
      "outputs": [
        {
          "output_type": "stream",
          "text": [
            "nan\n",
            "False\n",
            "False\n",
            "nan\n",
            "False\n"
          ],
          "name": "stdout"
        }
      ]
    },
    {
      "cell_type": "markdown",
      "metadata": {
        "id": "Hljuevy_KUwq"
      },
      "source": [
        "#### 18. Create a 5x5 matrix with values 1,2,3,4 just below the diagonal (★☆☆) \n",
        "(**hint**: np.diag)"
      ]
    },
    {
      "cell_type": "code",
      "metadata": {
        "colab": {
          "base_uri": "https://localhost:8080/"
        },
        "id": "YIB-kR1nKUwq",
        "outputId": "4aeb19c1-9714-44d6-d13c-c5fbb17ad65a"
      },
      "source": [
        "np.diag([1,2,3,4],k=0)"
      ],
      "execution_count": null,
      "outputs": [
        {
          "output_type": "execute_result",
          "data": {
            "text/plain": [
              "array([[1, 0, 0, 0],\n",
              "       [0, 2, 0, 0],\n",
              "       [0, 0, 3, 0],\n",
              "       [0, 0, 0, 4]])"
            ]
          },
          "metadata": {
            "tags": []
          },
          "execution_count": 17
        }
      ]
    },
    {
      "cell_type": "markdown",
      "metadata": {
        "id": "1GJ09v-JKUwr"
      },
      "source": [
        "#### 19. Create a 8x8 matrix and fill it with a checkerboard pattern (★☆☆) \n",
        "(**hint**: array\\[::2\\])"
      ]
    },
    {
      "cell_type": "code",
      "metadata": {
        "colab": {
          "base_uri": "https://localhost:8080/"
        },
        "id": "Ec8IPxDrKUwr",
        "outputId": "df688a4e-6e81-494c-f81a-f2e39baa8c1c"
      },
      "source": [
        "arr = np.zeros((8,8))\n",
        "\n",
        "print(arr)"
      ],
      "execution_count": null,
      "outputs": [
        {
          "output_type": "stream",
          "text": [
            "[[0. 0. 0. 0. 0. 0. 0. 0.]\n",
            " [0. 0. 0. 0. 0. 0. 0. 0.]\n",
            " [0. 0. 0. 0. 0. 0. 0. 0.]\n",
            " [0. 0. 0. 0. 0. 0. 0. 0.]\n",
            " [0. 0. 0. 0. 0. 0. 0. 0.]\n",
            " [0. 0. 0. 0. 0. 0. 0. 0.]\n",
            " [0. 0. 0. 0. 0. 0. 0. 0.]\n",
            " [0. 0. 0. 0. 0. 0. 0. 0.]]\n"
          ],
          "name": "stdout"
        }
      ]
    },
    {
      "cell_type": "code",
      "metadata": {
        "id": "ZGGwqv3JjxC9",
        "colab": {
          "base_uri": "https://localhost:8080/"
        },
        "outputId": "827d8d11-4ae8-45d6-c2ee-68292199e42d"
      },
      "source": [
        "arr[1::2,::2]=1\n",
        "arr[::2,1::2]=1\n",
        "print(arr)"
      ],
      "execution_count": null,
      "outputs": [
        {
          "output_type": "stream",
          "text": [
            "[[0. 1. 0. 1. 0. 1. 0. 1.]\n",
            " [1. 0. 1. 0. 1. 0. 1. 0.]\n",
            " [0. 1. 0. 1. 0. 1. 0. 1.]\n",
            " [1. 0. 1. 0. 1. 0. 1. 0.]\n",
            " [0. 1. 0. 1. 0. 1. 0. 1.]\n",
            " [1. 0. 1. 0. 1. 0. 1. 0.]\n",
            " [0. 1. 0. 1. 0. 1. 0. 1.]\n",
            " [1. 0. 1. 0. 1. 0. 1. 0.]]\n"
          ],
          "name": "stdout"
        }
      ]
    },
    {
      "cell_type": "markdown",
      "metadata": {
        "id": "79-RQhmNKUwr"
      },
      "source": [
        "#### 20. Consider a (6,7,8) shape array, what is the index (x,y,z) of the 100th element? \n",
        "(**hint**: np.unravel_index)"
      ]
    },
    {
      "cell_type": "code",
      "metadata": {
        "colab": {
          "base_uri": "https://localhost:8080/"
        },
        "id": "mdtWfec3KUwr",
        "outputId": "769541b8-3230-4695-c67f-8332998fbbcd"
      },
      "source": [
        "\n",
        "np.unravel_index(100,(6,7,8))"
      ],
      "execution_count": null,
      "outputs": [
        {
          "output_type": "execute_result",
          "data": {
            "text/plain": [
              "(1, 5, 4)"
            ]
          },
          "metadata": {
            "tags": []
          },
          "execution_count": 20
        }
      ]
    },
    {
      "cell_type": "markdown",
      "metadata": {
        "id": "vS7YlQmvKUws"
      },
      "source": [
        "#### 21. Create a checkerboard 8x8 matrix using the tile function (★☆☆) \n",
        "(**hint**: np.tile)"
      ]
    },
    {
      "cell_type": "code",
      "metadata": {
        "colab": {
          "base_uri": "https://localhost:8080/"
        },
        "id": "h4l-mES6KUws",
        "outputId": "38b9ea29-152c-4c98-b50a-4efc9cdd6ae7"
      },
      "source": [
        "np.tile([[1,0],[0,1]] ,(4,4))"
      ],
      "execution_count": null,
      "outputs": [
        {
          "output_type": "execute_result",
          "data": {
            "text/plain": [
              "array([[1, 0, 1, 0, 1, 0, 1, 0],\n",
              "       [0, 1, 0, 1, 0, 1, 0, 1],\n",
              "       [1, 0, 1, 0, 1, 0, 1, 0],\n",
              "       [0, 1, 0, 1, 0, 1, 0, 1],\n",
              "       [1, 0, 1, 0, 1, 0, 1, 0],\n",
              "       [0, 1, 0, 1, 0, 1, 0, 1],\n",
              "       [1, 0, 1, 0, 1, 0, 1, 0],\n",
              "       [0, 1, 0, 1, 0, 1, 0, 1]])"
            ]
          },
          "metadata": {
            "tags": []
          },
          "execution_count": 21
        }
      ]
    },
    {
      "cell_type": "markdown",
      "metadata": {
        "id": "fOkyN8wtKUws"
      },
      "source": [
        "#### 22. Normalize a 5x5 random matrix (★☆☆) \n",
        "(**hint**: (x - min) / (max - min))"
      ]
    },
    {
      "cell_type": "code",
      "metadata": {
        "colab": {
          "base_uri": "https://localhost:8080/"
        },
        "id": "ZKaGJ28NKUws",
        "outputId": "4bffd00d-8246-4c55-8e45-af4f200d2dcc"
      },
      "source": [
        "arr = np.random.randint(0,10,(5,5))\n",
        "amin = np.min(arr)\n",
        "amax = np.max(arr)\n",
        "\n",
        "print((arr-amin)/(amax-amin))"
      ],
      "execution_count": null,
      "outputs": [
        {
          "output_type": "stream",
          "text": [
            "[[0.44444444 1.         0.         1.         0.11111111]\n",
            " [0.55555556 0.44444444 1.         0.33333333 0.77777778]\n",
            " [0.88888889 0.88888889 0.11111111 1.         0.66666667]\n",
            " [0.55555556 0.22222222 0.11111111 1.         0.66666667]\n",
            " [0.33333333 0.11111111 0.11111111 0.11111111 0.11111111]]\n"
          ],
          "name": "stdout"
        }
      ]
    },
    {
      "cell_type": "markdown",
      "metadata": {
        "id": "1TJb6WV_KUws"
      },
      "source": [
        "#### 23. Create a custom dtype that describes a color as four unsigned bytes (RGBA) (★☆☆) \n",
        "(**hint**: np.dtype)"
      ]
    },
    {
      "cell_type": "code",
      "metadata": {
        "collapsed": true,
        "id": "nL-IEgC7KUwt",
        "colab": {
          "base_uri": "https://localhost:8080/"
        },
        "outputId": "13259a6f-be43-4270-b22f-6b5dd868355f"
      },
      "source": [
        "colour = np.dtype([('r',np.ubyte , 1),('g',np.ubyte,1) , ('b',np.ubyte,1),('a',np.ubyte,1)] )"
      ],
      "execution_count": null,
      "outputs": [
        {
          "output_type": "stream",
          "text": [
            "/usr/local/lib/python3.7/dist-packages/ipykernel_launcher.py:1: FutureWarning: Passing (type, 1) or '1type' as a synonym of type is deprecated; in a future version of numpy, it will be understood as (type, (1,)) / '(1,)type'.\n",
            "  \"\"\"Entry point for launching an IPython kernel.\n"
          ],
          "name": "stderr"
        }
      ]
    },
    {
      "cell_type": "markdown",
      "metadata": {
        "id": "qhG3U1fAKUwt"
      },
      "source": [
        "#### 24. Multiply a 5x3 matrix by a 3x2 matrix (real matrix product) (★☆☆) \n",
        "(**hint**: np.dot | @)"
      ]
    },
    {
      "cell_type": "code",
      "metadata": {
        "colab": {
          "base_uri": "https://localhost:8080/"
        },
        "id": "HD0LrembKUwt",
        "outputId": "8efeb0d1-7af6-4bba-a33f-0f892a80b6a2"
      },
      "source": [
        "arr1 = np.random.randint(0,10,(5,3))\n",
        "arr2 = np.random.randint(0,10,(3,2))\n",
        "\n",
        "np.dot(arr1,arr2)"
      ],
      "execution_count": null,
      "outputs": [
        {
          "output_type": "execute_result",
          "data": {
            "text/plain": [
              "array([[25, 62],\n",
              "       [15, 65],\n",
              "       [15, 53],\n",
              "       [ 0, 71],\n",
              "       [30, 99]])"
            ]
          },
          "metadata": {
            "tags": []
          },
          "execution_count": 23
        }
      ]
    },
    {
      "cell_type": "markdown",
      "metadata": {
        "id": "7dN97KgYKUwt"
      },
      "source": [
        "#### 25. Given a 1D array, negate all elements which are between 3 and 8, in place. (★☆☆) \n",
        "(**hint**: >, <=)"
      ]
    },
    {
      "cell_type": "code",
      "metadata": {
        "colab": {
          "base_uri": "https://localhost:8080/"
        },
        "id": "9w0bVnXWKUwu",
        "outputId": "c3771a4e-d8c2-497c-a021-71439cda4711"
      },
      "source": [
        "arr = np.arange(10)\n",
        "\n",
        "arr[(3>arr) & (arr<8)]  *= -1\n",
        "arr"
      ],
      "execution_count": null,
      "outputs": [
        {
          "output_type": "execute_result",
          "data": {
            "text/plain": [
              "array([ 0, -1, -2,  3,  4,  5,  6,  7,  8,  9])"
            ]
          },
          "metadata": {
            "tags": []
          },
          "execution_count": 24
        }
      ]
    },
    {
      "cell_type": "markdown",
      "metadata": {
        "id": "-JZiv_aNKUwu"
      },
      "source": [
        "#### 26. What is the output of the following script? (★☆☆) \n",
        "(**hint**: np.sum)"
      ]
    },
    {
      "cell_type": "markdown",
      "metadata": {
        "id": "YGjC4i4xKUwu"
      },
      "source": [
        "```python\n",
        "# Author: Jake VanderPlas\n",
        "\n",
        "print(sum(range(5),-1))\n",
        "from numpy import *\n",
        "print(sum(range(5),-1))\n",
        "```"
      ]
    },
    {
      "cell_type": "code",
      "metadata": {
        "colab": {
          "base_uri": "https://localhost:8080/"
        },
        "id": "baNtQwhaKUwu",
        "outputId": "c2fed372-d22a-4b8a-9552-7f0e64509c6c"
      },
      "source": [
        "print(sum(range(5),-1))\n",
        "from numpy import *\n",
        "print(sum(range(5),-1)) #numpy is omited for start"
      ],
      "execution_count": null,
      "outputs": [
        {
          "output_type": "stream",
          "text": [
            "10\n",
            "10\n"
          ],
          "name": "stdout"
        }
      ]
    },
    {
      "cell_type": "markdown",
      "metadata": {
        "id": "w17qh2cUKUwu"
      },
      "source": [
        "#### 27. Consider an integer vector Z, which of these expressions are legal? (★☆☆)"
      ]
    },
    {
      "cell_type": "markdown",
      "metadata": {
        "id": "502dESPRKUwv"
      },
      "source": [
        "```python\n",
        "Z**Z\n",
        "2 << Z >> 2\n",
        "Z <- Z\n",
        "1j*Z\n",
        "Z/1/1\n",
        "Z<Z>Z\n",
        "```"
      ]
    },
    {
      "cell_type": "code",
      "metadata": {
        "id": "23QW_p4NKUwv"
      },
      "source": [
        "z = np.arange(10)\n",
        "print(z)\n",
        "print(z**z) # True because boadcasting applies as a power\n",
        "print(2 << z >> 2)  #bit shift operators\n",
        "print(z<-z)  # just a comparision operator \n",
        "print(1j*z) # complex numbers\n",
        "print(z/1/1) #just division operator in broadcasting \n",
        "print(z<z>z) # comparison opetators are ok but these are not correctly represent\n"
      ],
      "execution_count": null,
      "outputs": []
    },
    {
      "cell_type": "markdown",
      "metadata": {
        "id": "jXJ_brPlKUwv"
      },
      "source": [
        "#### 28. What are the result of the following expressions?"
      ]
    },
    {
      "cell_type": "markdown",
      "metadata": {
        "id": "pfG4EmJYKUwv"
      },
      "source": [
        "```python\n",
        "np.array(0) / np.array(0)\n",
        "np.array(0) // np.array(0)\n",
        "np.array([np.nan]).astype(int).astype(float)\n",
        "```"
      ]
    },
    {
      "cell_type": "code",
      "metadata": {
        "colab": {
          "base_uri": "https://localhost:8080/"
        },
        "id": "XqQ0ZSjXKUww",
        "outputId": "1721f0ad-7bc1-4040-f6b6-308f04e59ec3"
      },
      "source": [
        "print(np.array(0) / np.array(0))  #division is not correct\n",
        "print(np.array([np.nan]).astype(int).astype(float))"
      ],
      "execution_count": null,
      "outputs": [
        {
          "output_type": "stream",
          "text": [
            "nan\n",
            "[-9.22337204e+18]\n"
          ],
          "name": "stdout"
        },
        {
          "output_type": "stream",
          "text": [
            "/usr/local/lib/python3.7/dist-packages/ipykernel_launcher.py:1: RuntimeWarning: invalid value encountered in true_divide\n",
            "  \"\"\"Entry point for launching an IPython kernel.\n"
          ],
          "name": "stderr"
        }
      ]
    },
    {
      "cell_type": "markdown",
      "metadata": {
        "id": "IbSg3XEIKUww"
      },
      "source": [
        "#### 29. How to round away from zero a float array ? (★☆☆) \n",
        "(**hint**: np.uniform, np.copysign, np.ceil, np.abs)"
      ]
    },
    {
      "cell_type": "code",
      "metadata": {
        "colab": {
          "base_uri": "https://localhost:8080/"
        },
        "id": "XapEMJyZKUww",
        "outputId": "40afdd10-8f27-4293-f20b-c5e39ff36aea"
      },
      "source": [
        "arr = np.random.uniform(-10,10,10)\n",
        "print(arr)\n",
        "# np.abs turn the values into absolute values \n",
        "#ceil tourn the value into roundup eg:- 0.5 to 1\n",
        "#copysign assign sign from one array to another array\n",
        "print(np.copysign(np.ceil(np.abs(arr)), arr))"
      ],
      "execution_count": null,
      "outputs": [
        {
          "output_type": "stream",
          "text": [
            "[-9.19346588 -5.92113248  6.57724272 -9.43122502 -0.69327437 -2.01050293\n",
            " -6.29756884 -0.11833233  7.15188159 -4.15445844]\n",
            "[-10.  -6.   7. -10.  -1.  -3.  -7.  -1.   8.  -5.]\n"
          ],
          "name": "stdout"
        }
      ]
    },
    {
      "cell_type": "markdown",
      "metadata": {
        "id": "-_2ADUmHKUww"
      },
      "source": [
        "#### 30. How to find common values between two arrays? (★☆☆) \n",
        "(**hint**: np.intersect1d)"
      ]
    },
    {
      "cell_type": "code",
      "metadata": {
        "id": "9k03W1EnKUww",
        "colab": {
          "base_uri": "https://localhost:8080/"
        },
        "outputId": "9082627f-36a6-4250-8b97-c77be57c6754"
      },
      "source": [
        "arr = np.random.randint(0,10,100)\n",
        "arr1 = np.random.randint(0,10,100)\n",
        "print(arr,arr1)\n",
        "np.intersect1d(arr,arr1)"
      ],
      "execution_count": null,
      "outputs": [
        {
          "output_type": "stream",
          "text": [
            "[4 6 6 6 7 4 0 8 7 7 2 4 5 1 8 1 7 2 7 7 3 5 1 6 3 2 6 9 7 4 1 2 5 4 6 2 9\n",
            " 4 0 4 9 9 4 8 5 7 3 3 3 9 3 2 0 1 7 6 9 2 3 4 9 5 8 0 8 5 5 7 8 4 8 5 1 2\n",
            " 6 5 8 6 9 0 1 5 4 3 9 8 5 3 8 6 8 9 8 9 5 0 8 0 8 9] [1 3 8 7 0 8 9 0 4 2 2 3 0 3 8 0 3 8 2 3 2 0 3 4 9 2 2 4 7 2 1 9 8 4 9 5 3\n",
            " 9 4 6 5 2 1 7 2 6 7 7 0 9 2 0 2 5 5 0 9 6 6 0 1 6 6 7 4 7 8 8 3 5 3 6 9 8\n",
            " 2 6 8 9 5 5 6 5 7 6 4 6 5 2 9 6 9 2 1 4 8 8 7 2 2 1]\n"
          ],
          "name": "stdout"
        },
        {
          "output_type": "execute_result",
          "data": {
            "text/plain": [
              "array([0, 1, 2, 3, 4, 5, 6, 7, 8, 9])"
            ]
          },
          "metadata": {
            "tags": []
          },
          "execution_count": 30
        }
      ]
    },
    {
      "cell_type": "markdown",
      "metadata": {
        "id": "IA_LRcLKKUwx"
      },
      "source": [
        "#### 31. How to ignore all numpy warnings (not recommended)? (★☆☆) \n",
        "(**hint**: np.seterr, np.errstate)"
      ]
    },
    {
      "cell_type": "code",
      "metadata": {
        "id": "3dn3OuZ6KUwx"
      },
      "source": [
        "np.seterr(all='ignore')\n",
        "np.ones(1)/0\n",
        "\n",
        "_ = np.seterr()\n",
        "np.ones(1)/0"
      ],
      "execution_count": null,
      "outputs": []
    },
    {
      "cell_type": "markdown",
      "metadata": {
        "id": "gPOSXsj4KUwx"
      },
      "source": [
        "#### 32. Is the following expressions true? (★☆☆) \n",
        "(**hint**: imaginary number)"
      ]
    },
    {
      "cell_type": "markdown",
      "metadata": {
        "id": "1vNWDiFKKUwx"
      },
      "source": [
        "```python\n",
        "np.sqrt(-1) == np.emath.sqrt(-1)\n",
        "```"
      ]
    },
    {
      "cell_type": "code",
      "metadata": {
        "id": "fPpP-6lGKUwx",
        "colab": {
          "base_uri": "https://localhost:8080/"
        },
        "outputId": "be95e79a-3b1c-4e6f-a912-066f6a911623"
      },
      "source": [
        "print(np.sqrt(-1)) # returns the nan value\n",
        "print(np.emath.sqrt(-1)) # returns the complex number\n",
        "#so the answer is false"
      ],
      "execution_count": null,
      "outputs": [
        {
          "output_type": "stream",
          "text": [
            "nan\n",
            "1j\n"
          ],
          "name": "stdout"
        }
      ]
    },
    {
      "cell_type": "markdown",
      "metadata": {
        "id": "NiGR25RTKUwy"
      },
      "source": [
        "#### 33. How to get the dates of yesterday, today and tomorrow? (★☆☆) \n",
        "(**hint**: np.datetime64, np.timedelta64)"
      ]
    },
    {
      "cell_type": "code",
      "metadata": {
        "collapsed": true,
        "id": "uEGbLOxjKUwy",
        "colab": {
          "base_uri": "https://localhost:8080/"
        },
        "outputId": "6bced1e5-88f1-480b-caeb-d0d85ebb8d67"
      },
      "source": [
        "print(np.datetime64('today','D')-1)\n",
        "print(np.datetime64('today'))\n",
        "print(np.datetime64('today','D')+1)\n",
        "print(np.timedelta64(1,'D'))"
      ],
      "execution_count": null,
      "outputs": [
        {
          "output_type": "stream",
          "text": [
            "2021-06-17\n",
            "2021-06-18\n",
            "2021-06-19\n",
            "1 days\n"
          ],
          "name": "stdout"
        }
      ]
    },
    {
      "cell_type": "markdown",
      "metadata": {
        "id": "oHL6cQ49KUwy"
      },
      "source": [
        "#### 34. How to get all the dates corresponding to the month of July 2016? (★★☆) \n",
        "(**hint**: np.arange(dtype=datetime64\\['D'\\]))"
      ]
    },
    {
      "cell_type": "code",
      "metadata": {
        "id": "KINa-1UwKUwy",
        "colab": {
          "base_uri": "https://localhost:8080/"
        },
        "outputId": "c5fec7ce-6e3a-48f3-d7f9-45c53042d7f6"
      },
      "source": [
        "np.arange('2016-07','2016-08',dtype='datetime64[D]')"
      ],
      "execution_count": null,
      "outputs": [
        {
          "output_type": "execute_result",
          "data": {
            "text/plain": [
              "array(['2016-07-01', '2016-07-02', '2016-07-03', '2016-07-04',\n",
              "       '2016-07-05', '2016-07-06', '2016-07-07', '2016-07-08',\n",
              "       '2016-07-09', '2016-07-10', '2016-07-11', '2016-07-12',\n",
              "       '2016-07-13', '2016-07-14', '2016-07-15', '2016-07-16',\n",
              "       '2016-07-17', '2016-07-18', '2016-07-19', '2016-07-20',\n",
              "       '2016-07-21', '2016-07-22', '2016-07-23', '2016-07-24',\n",
              "       '2016-07-25', '2016-07-26', '2016-07-27', '2016-07-28',\n",
              "       '2016-07-29', '2016-07-30', '2016-07-31'], dtype='datetime64[D]')"
            ]
          },
          "metadata": {
            "tags": []
          },
          "execution_count": 55
        }
      ]
    },
    {
      "cell_type": "markdown",
      "metadata": {
        "id": "9_weso4QKUwy"
      },
      "source": [
        "#### 35. How to compute ((A+B)\\*(-A/2)) in place (without copy)? (★★☆) \n",
        "(**hint**: np.add(out=), np.negative(out=), np.multiply(out=), np.divide(out=))"
      ]
    },
    {
      "cell_type": "code",
      "metadata": {
        "id": "wbxaYlsMKUwz",
        "colab": {
          "base_uri": "https://localhost:8080/"
        },
        "outputId": "4b4ea4f8-420c-4ea2-c891-a146f9593943"
      },
      "source": [
        "a = np.ones(3)*1\n",
        "b = np.ones(3)*2\n",
        "\n",
        "#out is the argument that stores the ouput in that variable\n",
        "\n",
        "np.add(a,b,out=b)\n",
        "np.negative(a,out=a)\n",
        "\n",
        "np.divide(a,2, out =a)\n",
        "np.multiply(a,b , out=b)\n",
        "b"
      ],
      "execution_count": null,
      "outputs": [
        {
          "output_type": "execute_result",
          "data": {
            "text/plain": [
              "array([-1.5, -1.5, -1.5])"
            ]
          },
          "metadata": {
            "tags": []
          },
          "execution_count": 56
        }
      ]
    },
    {
      "cell_type": "markdown",
      "metadata": {
        "id": "4eLNL8EOKUwz"
      },
      "source": [
        "#### 36. Extract the integer part of a random array using 5 different methods (★★☆) \n",
        "(**hint**: %, np.floor, np.ceil, astype, np.trunc)"
      ]
    },
    {
      "cell_type": "code",
      "metadata": {
        "id": "5lzhQxdTKUwz",
        "colab": {
          "base_uri": "https://localhost:8080/"
        },
        "outputId": "4928ca06-aa33-434d-a78a-3705b6a553c2"
      },
      "source": [
        "z = np.random.uniform(0,10,10)\n",
        "print(z - z%1)"
      ],
      "execution_count": null,
      "outputs": [
        {
          "output_type": "stream",
          "text": [
            "[6. 9. 0. 1. 2. 5. 5. 4. 9. 0.]\n"
          ],
          "name": "stdout"
        }
      ]
    },
    {
      "cell_type": "markdown",
      "metadata": {
        "id": "CIbvP2iFKUwz"
      },
      "source": [
        "#### 37. Create a 5x5 matrix with row values ranging from 0 to 4 (★★☆) \n",
        "(**hint**: np.arange)"
      ]
    },
    {
      "cell_type": "code",
      "metadata": {
        "id": "dgLowoHHKUwz",
        "colab": {
          "base_uri": "https://localhost:8080/"
        },
        "outputId": "e40c4f4d-3d8b-4144-b85f-92f0f8ca3f3a"
      },
      "source": [
        "np.tile(np.arange(0,5),(5,1))\n"
      ],
      "execution_count": null,
      "outputs": [
        {
          "output_type": "execute_result",
          "data": {
            "text/plain": [
              "array([[0, 1, 2, 3, 4],\n",
              "       [0, 1, 2, 3, 4],\n",
              "       [0, 1, 2, 3, 4],\n",
              "       [0, 1, 2, 3, 4],\n",
              "       [0, 1, 2, 3, 4]])"
            ]
          },
          "metadata": {
            "tags": []
          },
          "execution_count": 68
        }
      ]
    },
    {
      "cell_type": "markdown",
      "metadata": {
        "id": "GYLi4IrmKUw0"
      },
      "source": [
        "#### 38. Consider a generator function that generates 10 integers and use it to build an array (★☆☆) \n",
        "(**hint**: np.fromiter)"
      ]
    },
    {
      "cell_type": "code",
      "metadata": {
        "id": "mKtwqsfqKUw0",
        "colab": {
          "base_uri": "https://localhost:8080/"
        },
        "outputId": "f4839cdc-8181-4a91-fcc2-8f1d1d7dcd17"
      },
      "source": [
        "iter = [x for x in range(10)]\n",
        "np.fromiter(iter,int)"
      ],
      "execution_count": null,
      "outputs": [
        {
          "output_type": "execute_result",
          "data": {
            "text/plain": [
              "array([0, 1, 2, 3, 4, 5, 6, 7, 8, 9])"
            ]
          },
          "metadata": {
            "tags": []
          },
          "execution_count": 72
        }
      ]
    },
    {
      "cell_type": "markdown",
      "metadata": {
        "id": "CSPRsj-aKUw0"
      },
      "source": [
        "#### 39. Create a vector of size 10 with values ranging from 0 to 1, both excluded (★★☆) \n",
        "(**hint**: np.linspace)"
      ]
    },
    {
      "cell_type": "code",
      "metadata": {
        "id": "UDsaYQLvKUw0",
        "colab": {
          "base_uri": "https://localhost:8080/"
        },
        "outputId": "42beecce-6dd8-440e-d4d0-0f3f7c636be2"
      },
      "source": [
        "np.linspace(0,1,10,endpoint=True)"
      ],
      "execution_count": null,
      "outputs": [
        {
          "output_type": "execute_result",
          "data": {
            "text/plain": [
              "array([0.        , 0.11111111, 0.22222222, 0.33333333, 0.44444444,\n",
              "       0.55555556, 0.66666667, 0.77777778, 0.88888889, 1.        ])"
            ]
          },
          "metadata": {
            "tags": []
          },
          "execution_count": 80
        }
      ]
    },
    {
      "cell_type": "markdown",
      "metadata": {
        "id": "_RLIEFKdKUw1"
      },
      "source": [
        "#### 40. Create a random vector of size 10 and sort it (★★☆) \n",
        "(**hint**: sort)"
      ]
    },
    {
      "cell_type": "code",
      "metadata": {
        "id": "_IGNSK2OKUw1",
        "colab": {
          "base_uri": "https://localhost:8080/"
        },
        "outputId": "3a89065c-661e-40a0-cc02-fcd5285a9c1d"
      },
      "source": [
        "np.sort(np.random.randint(0,10,10))"
      ],
      "execution_count": null,
      "outputs": [
        {
          "output_type": "execute_result",
          "data": {
            "text/plain": [
              "array([0, 2, 3, 4, 5, 5, 7, 8, 8, 9])"
            ]
          },
          "metadata": {
            "tags": []
          },
          "execution_count": 81
        }
      ]
    },
    {
      "cell_type": "markdown",
      "metadata": {
        "id": "nqXP4Q22KUw1"
      },
      "source": [
        "#### 41. How to sum a small array faster than np.sum? (★★☆) \n",
        "(**hint**: np.add.reduce)"
      ]
    },
    {
      "cell_type": "code",
      "metadata": {
        "id": "kUE93iFEKUw2",
        "colab": {
          "base_uri": "https://localhost:8080/"
        },
        "outputId": "24dc3f78-eb0b-411e-f0d1-f97428c02857"
      },
      "source": [
        "np.add.reduce(np.arange(4))"
      ],
      "execution_count": null,
      "outputs": [
        {
          "output_type": "execute_result",
          "data": {
            "text/plain": [
              "6"
            ]
          },
          "metadata": {
            "tags": []
          },
          "execution_count": 82
        }
      ]
    },
    {
      "cell_type": "markdown",
      "metadata": {
        "id": "lV6171bTKUw2"
      },
      "source": [
        "#### 42. Consider two random array A and B, check if they are equal (★★☆) \n",
        "(**hint**: np.allclose, np.array\\_equal)"
      ]
    },
    {
      "cell_type": "code",
      "metadata": {
        "id": "6eAnn7LUKUw2",
        "colab": {
          "base_uri": "https://localhost:8080/"
        },
        "outputId": "b88f2a7f-dd6e-48cd-9847-8d77f3a3ccbd"
      },
      "source": [
        "arr = np.arange(10)\n",
        "arr1 = np.array([0,1,2,3,4,5,6,7,8,9.1])\n",
        "print(arr,arr1)\n",
        "print(np.array_equal(arr,arr1))\n",
        "print(np.allclose(arr,arr1))\n"
      ],
      "execution_count": null,
      "outputs": [
        {
          "output_type": "stream",
          "text": [
            "[0 1 2 3 4 5 6 7 8 9] [0.  1.  2.  3.  4.  5.  6.  7.  8.  9.1]\n",
            "False\n",
            "False\n"
          ],
          "name": "stdout"
        }
      ]
    },
    {
      "cell_type": "markdown",
      "metadata": {
        "id": "TnQ9H_N_KUw2"
      },
      "source": [
        "#### 43. Make an array immutable (read-only) (★★☆) \n",
        "(**hint**: flags.writeable)"
      ]
    },
    {
      "cell_type": "code",
      "metadata": {
        "id": "hMRHem7LKUw2"
      },
      "source": [
        "arr= np.arange(10)\n",
        "arr.flags.writeable = False\n",
        "arr[0] = 1"
      ],
      "execution_count": null,
      "outputs": []
    },
    {
      "cell_type": "markdown",
      "metadata": {
        "id": "ipqbnYlYKUw3"
      },
      "source": [
        "#### 44. Consider a random 10x2 matrix representing cartesian coordinates, convert them to polar coordinates (★★☆) \n",
        "(**hint**: np.sqrt, np.arctan2)"
      ]
    },
    {
      "cell_type": "code",
      "metadata": {
        "colab": {
          "base_uri": "https://localhost:8080/"
        },
        "id": "CylU85O52_hZ",
        "outputId": "aec0c5f8-5adb-4df4-af56-170aa8f799f0"
      },
      "source": [
        "import numpy as np\n",
        "arr = np.random.randint(1,10,(10,2))\n",
        "print(arr)\n",
        "arr[:,0]"
      ],
      "execution_count": null,
      "outputs": [
        {
          "output_type": "stream",
          "text": [
            "[[6 2]\n",
            " [4 6]\n",
            " [2 9]\n",
            " [1 9]\n",
            " [6 7]\n",
            " [5 4]\n",
            " [1 2]\n",
            " [3 5]\n",
            " [5 1]\n",
            " [7 9]]\n"
          ],
          "name": "stdout"
        },
        {
          "output_type": "execute_result",
          "data": {
            "text/plain": [
              "array([6, 4, 2, 1, 6, 5, 1, 3, 5, 7])"
            ]
          },
          "metadata": {
            "tags": []
          },
          "execution_count": 18
        }
      ]
    },
    {
      "cell_type": "code",
      "metadata": {
        "id": "-EFBFP1dKUw3",
        "colab": {
          "base_uri": "https://localhost:8080/"
        },
        "outputId": "b47bde0c-626e-41d3-f36a-ce9a7be7148e"
      },
      "source": [
        "arr = np.random.randint(1,10,(10,2))\n",
        "r = np.sqrt(np.square(arr[:,0])+np.square(arr[:,1]))\n",
        "teta = np.arctan(np.divide(arr[:,1],arr[:,0]))\n",
        "ab = np.stack((r,teta),axis=1)\n",
        "print(ab)"
      ],
      "execution_count": null,
      "outputs": [
        {
          "output_type": "stream",
          "text": [
            "[[ 4.12310563  1.32581766]\n",
            " [ 7.61577311  0.40489179]\n",
            " [ 2.23606798  1.10714872]\n",
            " [ 8.06225775  0.12435499]\n",
            " [10.63014581  0.85196633]\n",
            " [ 5.09901951  0.19739556]\n",
            " [ 5.65685425  0.78539816]\n",
            " [ 7.21110255  0.5880026 ]\n",
            " [ 6.40312424  0.67474094]\n",
            " [ 4.47213595  1.10714872]]\n"
          ],
          "name": "stdout"
        }
      ]
    },
    {
      "cell_type": "markdown",
      "metadata": {
        "id": "UUwzNsN1KUw3"
      },
      "source": [
        "#### 45. Create random vector of size 10 and replace the maximum value by 0 (★★☆) \n",
        "(**hint**: argmax)"
      ]
    },
    {
      "cell_type": "code",
      "metadata": {
        "id": "Wm3loIOFKUw3",
        "colab": {
          "base_uri": "https://localhost:8080/"
        },
        "outputId": "977a05b1-7921-4cd1-9dab-0bd95230765b"
      },
      "source": [
        "arr = np.random.randint(1,10,10)\n",
        "arr[np.argmax(arr)]=0\n",
        "arr"
      ],
      "execution_count": null,
      "outputs": [
        {
          "output_type": "execute_result",
          "data": {
            "text/plain": [
              "array([4, 8, 2, 5, 2, 0, 6, 5, 5, 9])"
            ]
          },
          "metadata": {
            "tags": []
          },
          "execution_count": 95
        }
      ]
    },
    {
      "cell_type": "markdown",
      "metadata": {
        "id": "QbJvRafaKUw3"
      },
      "source": [
        "#### 46. Create a structured array with `x` and `y` coordinates covering the \\[0,1\\]x\\[0,1\\] area (★★☆) \n",
        "(**hint**: np.meshgrid)"
      ]
    },
    {
      "cell_type": "code",
      "metadata": {
        "id": "Oh3zTIeDKUw4",
        "colab": {
          "base_uri": "https://localhost:8080/"
        },
        "outputId": "a81178ae-31d4-4336-ed10-e8640a71b9fb"
      },
      "source": [
        "Z = np.zeros((5,5), [('x',float),('y',float)])\n",
        "\n",
        "Z['x'], Z['y'] = np.meshgrid(np.linspace(0,1,5),\n",
        "\n",
        "np.linspace(0,1,5))\n",
        "\n",
        "print(Z)"
      ],
      "execution_count": null,
      "outputs": [
        {
          "output_type": "stream",
          "text": [
            "[[(0.  , 0.  ) (0.25, 0.  ) (0.5 , 0.  ) (0.75, 0.  ) (1.  , 0.  )]\n",
            " [(0.  , 0.25) (0.25, 0.25) (0.5 , 0.25) (0.75, 0.25) (1.  , 0.25)]\n",
            " [(0.  , 0.5 ) (0.25, 0.5 ) (0.5 , 0.5 ) (0.75, 0.5 ) (1.  , 0.5 )]\n",
            " [(0.  , 0.75) (0.25, 0.75) (0.5 , 0.75) (0.75, 0.75) (1.  , 0.75)]\n",
            " [(0.  , 1.  ) (0.25, 1.  ) (0.5 , 1.  ) (0.75, 1.  ) (1.  , 1.  )]]\n"
          ],
          "name": "stdout"
        }
      ]
    },
    {
      "cell_type": "markdown",
      "metadata": {
        "id": "Mvyjwz1OKUw4"
      },
      "source": [
        "####  47. Given two arrays, X and Y, construct the Cauchy matrix C (Cij =1/(xi - yj)) \n",
        "(**hint**: np.subtract.outer)"
      ]
    },
    {
      "cell_type": "code",
      "metadata": {
        "id": "7MHvKVj3KUw4",
        "colab": {
          "base_uri": "https://localhost:8080/"
        },
        "outputId": "546c7b3a-614a-4fc0-ae27-05800dc3dfb1"
      },
      "source": [
        "X = np.arange(8)\n",
        "\n",
        "Y = X + 0.5\n",
        "\n",
        "C = 1.0 / np.subtract.outer(X, Y)\n",
        "\n",
        "print(np.linalg.det(C))"
      ],
      "execution_count": null,
      "outputs": [
        {
          "output_type": "stream",
          "text": [
            "3638.1636371179666\n"
          ],
          "name": "stdout"
        }
      ]
    },
    {
      "cell_type": "markdown",
      "metadata": {
        "id": "tZeGcIeGKUw4"
      },
      "source": [
        "#### 48. Print the minimum and maximum representable value for each numpy scalar type (★★☆) \n",
        "(**hint**: np.iinfo, np.finfo, eps)"
      ]
    },
    {
      "cell_type": "code",
      "metadata": {
        "id": "pwktbcY6KUw5",
        "colab": {
          "base_uri": "https://localhost:8080/"
        },
        "outputId": "deff416e-fbd8-4bae-ef38-06cec3ac700e"
      },
      "source": [
        "for dtype in [np.int8, np.int32, np.int64]:\n",
        "\n",
        "  print(np.iinfo(dtype).min)\n",
        "\n",
        "  print(np.iinfo(dtype).max)\n",
        "\n",
        "for dtype in [np.float32, np.float64]:\n",
        "\n",
        "  print(np.finfo(dtype).min)\n",
        "\n",
        "  print(np.finfo(dtype).max)\n",
        "\n",
        "  print(np.finfo(dtype).eps)"
      ],
      "execution_count": null,
      "outputs": [
        {
          "output_type": "stream",
          "text": [
            "-128\n",
            "127\n",
            "-2147483648\n",
            "2147483647\n",
            "-9223372036854775808\n",
            "9223372036854775807\n",
            "-3.4028235e+38\n",
            "3.4028235e+38\n",
            "1.1920929e-07\n",
            "-1.7976931348623157e+308\n",
            "1.7976931348623157e+308\n",
            "2.220446049250313e-16\n"
          ],
          "name": "stdout"
        }
      ]
    },
    {
      "cell_type": "markdown",
      "metadata": {
        "id": "9R5CLlBJKUw5"
      },
      "source": [
        "#### 49. How to print all the values of an array? (★★☆) \n",
        "(**hint**: np.set\\_printoptions)"
      ]
    },
    {
      "cell_type": "code",
      "metadata": {
        "id": "1omhPClZKUw5",
        "colab": {
          "base_uri": "https://localhost:8080/",
          "height": 346
        },
        "outputId": "9e66f004-e834-4635-87c8-234f3ce42eb0"
      },
      "source": [
        "np.set_printoptions(threshold=np.nan)\n",
        "print(np.zeros((16,16)))"
      ],
      "execution_count": null,
      "outputs": [
        {
          "output_type": "error",
          "ename": "ValueError",
          "evalue": "ignored",
          "traceback": [
            "\u001b[0;31m---------------------------------------------------------------------------\u001b[0m",
            "\u001b[0;31mValueError\u001b[0m                                Traceback (most recent call last)",
            "\u001b[0;32m<ipython-input-63-250727c57fd4>\u001b[0m in \u001b[0;36m<module>\u001b[0;34m()\u001b[0m\n\u001b[0;32m----> 1\u001b[0;31m \u001b[0mnp\u001b[0m\u001b[0;34m.\u001b[0m\u001b[0mset_printoptions\u001b[0m\u001b[0;34m(\u001b[0m\u001b[0mthreshold\u001b[0m\u001b[0;34m=\u001b[0m\u001b[0mnp\u001b[0m\u001b[0;34m.\u001b[0m\u001b[0mnan\u001b[0m\u001b[0;34m)\u001b[0m\u001b[0;34m\u001b[0m\u001b[0;34m\u001b[0m\u001b[0m\n\u001b[0m\u001b[1;32m      2\u001b[0m \u001b[0mprint\u001b[0m\u001b[0;34m(\u001b[0m\u001b[0mnp\u001b[0m\u001b[0;34m.\u001b[0m\u001b[0mzeros\u001b[0m\u001b[0;34m(\u001b[0m\u001b[0;34m(\u001b[0m\u001b[0;36m16\u001b[0m\u001b[0;34m,\u001b[0m\u001b[0;36m16\u001b[0m\u001b[0;34m)\u001b[0m\u001b[0;34m)\u001b[0m\u001b[0;34m)\u001b[0m\u001b[0;34m\u001b[0m\u001b[0;34m\u001b[0m\u001b[0m\n",
            "\u001b[0;32m/usr/local/lib/python3.7/dist-packages/numpy/core/arrayprint.py\u001b[0m in \u001b[0;36mset_printoptions\u001b[0;34m(precision, threshold, edgeitems, linewidth, suppress, nanstr, infstr, formatter, sign, floatmode, legacy)\u001b[0m\n\u001b[1;32m    243\u001b[0m     opt = _make_options_dict(precision, threshold, edgeitems, linewidth,\n\u001b[1;32m    244\u001b[0m                              \u001b[0msuppress\u001b[0m\u001b[0;34m,\u001b[0m \u001b[0mnanstr\u001b[0m\u001b[0;34m,\u001b[0m \u001b[0minfstr\u001b[0m\u001b[0;34m,\u001b[0m \u001b[0msign\u001b[0m\u001b[0;34m,\u001b[0m \u001b[0mformatter\u001b[0m\u001b[0;34m,\u001b[0m\u001b[0;34m\u001b[0m\u001b[0;34m\u001b[0m\u001b[0m\n\u001b[0;32m--> 245\u001b[0;31m                              floatmode, legacy)\n\u001b[0m\u001b[1;32m    246\u001b[0m     \u001b[0;31m# formatter is always reset\u001b[0m\u001b[0;34m\u001b[0m\u001b[0;34m\u001b[0m\u001b[0;34m\u001b[0m\u001b[0m\n\u001b[1;32m    247\u001b[0m     \u001b[0mopt\u001b[0m\u001b[0;34m[\u001b[0m\u001b[0;34m'formatter'\u001b[0m\u001b[0;34m]\u001b[0m \u001b[0;34m=\u001b[0m \u001b[0mformatter\u001b[0m\u001b[0;34m\u001b[0m\u001b[0;34m\u001b[0m\u001b[0m\n",
            "\u001b[0;32m/usr/local/lib/python3.7/dist-packages/numpy/core/arrayprint.py\u001b[0m in \u001b[0;36m_make_options_dict\u001b[0;34m(precision, threshold, edgeitems, linewidth, suppress, nanstr, infstr, sign, formatter, floatmode, legacy)\u001b[0m\n\u001b[1;32m     84\u001b[0m             \u001b[0;32mraise\u001b[0m \u001b[0mTypeError\u001b[0m\u001b[0;34m(\u001b[0m\u001b[0;34m\"threshold must be numeric\"\u001b[0m\u001b[0;34m)\u001b[0m\u001b[0;34m\u001b[0m\u001b[0;34m\u001b[0m\u001b[0m\n\u001b[1;32m     85\u001b[0m         \u001b[0;32mif\u001b[0m \u001b[0mnp\u001b[0m\u001b[0;34m.\u001b[0m\u001b[0misnan\u001b[0m\u001b[0;34m(\u001b[0m\u001b[0mthreshold\u001b[0m\u001b[0;34m)\u001b[0m\u001b[0;34m:\u001b[0m\u001b[0;34m\u001b[0m\u001b[0;34m\u001b[0m\u001b[0m\n\u001b[0;32m---> 86\u001b[0;31m             raise ValueError(\"threshold must be non-NAN, try \"\n\u001b[0m\u001b[1;32m     87\u001b[0m                              \"sys.maxsize for untruncated representation\")\n\u001b[1;32m     88\u001b[0m     \u001b[0;32mreturn\u001b[0m \u001b[0moptions\u001b[0m\u001b[0;34m\u001b[0m\u001b[0;34m\u001b[0m\u001b[0m\n",
            "\u001b[0;31mValueError\u001b[0m: threshold must be non-NAN, try sys.maxsize for untruncated representation"
          ]
        }
      ]
    },
    {
      "cell_type": "markdown",
      "metadata": {
        "id": "p_xmrwR7KUw5"
      },
      "source": [
        "#### 50. How to find the closest value (to a given scalar) in a vector? (★★☆) \n",
        "(**hint**: argmin)"
      ]
    },
    {
      "cell_type": "code",
      "metadata": {
        "id": "FN8mh6pCKUw5",
        "colab": {
          "base_uri": "https://localhost:8080/"
        },
        "outputId": "ce592c09-23b9-4260-8b6d-43674fa9ffd0"
      },
      "source": [
        "arr = np.arange(100)\n",
        "v  = np.random.uniform(0,100)\n",
        "index = np.abs(arr-v).argmin()\n",
        "print(arr[index])"
      ],
      "execution_count": null,
      "outputs": [
        {
          "output_type": "stream",
          "text": [
            "73\n"
          ],
          "name": "stdout"
        }
      ]
    },
    {
      "cell_type": "markdown",
      "metadata": {
        "id": "WuNaibWWKUw6"
      },
      "source": [
        "#### 51. Create a structured array representing a position (x,y) and a color (r,g,b) (★★☆) \n",
        "(**hint**: dtype)"
      ]
    },
    {
      "cell_type": "code",
      "metadata": {
        "id": "ASgjw7DvKUw6",
        "colab": {
          "base_uri": "https://localhost:8080/"
        },
        "outputId": "8e24ddd7-c670-4395-c41b-20a9170b684c"
      },
      "source": [
        "Z = np.zeros(10, [ ('position', [ ('x', float, 1),\n",
        "\n",
        "('y', float, 1)]),\n",
        "\n",
        "('color', [ ('r', float, 1),\n",
        "\n",
        "('g', float, 1),\n",
        "\n",
        "('b', float, 1)])])\n",
        "\n",
        "print(Z)"
      ],
      "execution_count": null,
      "outputs": [
        {
          "output_type": "stream",
          "text": [
            "[((0., 0.), (0., 0., 0.)) ((0., 0.), (0., 0., 0.))\n",
            " ((0., 0.), (0., 0., 0.)) ((0., 0.), (0., 0., 0.))\n",
            " ((0., 0.), (0., 0., 0.)) ((0., 0.), (0., 0., 0.))\n",
            " ((0., 0.), (0., 0., 0.)) ((0., 0.), (0., 0., 0.))\n",
            " ((0., 0.), (0., 0., 0.)) ((0., 0.), (0., 0., 0.))]\n"
          ],
          "name": "stdout"
        },
        {
          "output_type": "stream",
          "text": [
            "/usr/local/lib/python3.7/dist-packages/ipykernel_launcher.py:9: FutureWarning: Passing (type, 1) or '1type' as a synonym of type is deprecated; in a future version of numpy, it will be understood as (type, (1,)) / '(1,)type'.\n",
            "  if __name__ == '__main__':\n"
          ],
          "name": "stderr"
        }
      ]
    },
    {
      "cell_type": "markdown",
      "metadata": {
        "id": "m5jSEK9kKUw6"
      },
      "source": [
        "#### 52. Consider a random vector with shape (100,2) representing coordinates, find point by point distances (★★☆) \n",
        "(**hint**: np.atleast\\_2d, T, np.sqrt)"
      ]
    },
    {
      "cell_type": "code",
      "metadata": {
        "id": "QiXbkcj3KUw6",
        "colab": {
          "base_uri": "https://localhost:8080/",
          "height": 35
        },
        "outputId": "3963fa29-73de-4a0c-8631-fc509a237a1f"
      },
      "source": [
        "\"\"\"arr = np.random.random((100,2))\n",
        "x ,y = np.atleast_2d(arr[:,0],arr[:,1])\n",
        "print(np.sqrt( (x-x.T)**2 + (y-y.T)**2))\"\"\"\n"
      ],
      "execution_count": null,
      "outputs": [
        {
          "output_type": "execute_result",
          "data": {
            "application/vnd.google.colaboratory.intrinsic+json": {
              "type": "string"
            },
            "text/plain": [
              "'arr = np.random.random((100,2))\\nx ,y = np.atleast_2d(arr[:,0],arr[:,1])\\nprint(np.sqrt( (x-x.T)**2 + (y-y.T)**2))'"
            ]
          },
          "metadata": {
            "tags": []
          },
          "execution_count": 58
        }
      ]
    },
    {
      "cell_type": "markdown",
      "metadata": {
        "id": "9GWSdvGCKUw6"
      },
      "source": [
        "#### 53. How to convert a float (32 bits) array into an integer (32 bits) in place? \n",
        "(**hint**: astype(copy=False))"
      ]
    },
    {
      "cell_type": "code",
      "metadata": {
        "id": "_BTmXCnvKUw7",
        "colab": {
          "base_uri": "https://localhost:8080/"
        },
        "outputId": "632d2f08-eafe-41f6-9e76-1bc7657c6d0c"
      },
      "source": [
        "n =np.arange(100,dtype=np.int32)\n",
        "n=n.astype(np.float32)\n",
        "n.dtype"
      ],
      "execution_count": null,
      "outputs": [
        {
          "output_type": "execute_result",
          "data": {
            "text/plain": [
              "dtype('float32')"
            ]
          },
          "metadata": {
            "tags": []
          },
          "execution_count": 61
        }
      ]
    },
    {
      "cell_type": "markdown",
      "metadata": {
        "id": "sovMvpAuKUw7"
      },
      "source": [
        "#### 54. How to read the following file? (★★☆) \n",
        "(**hint**: np.genfromtxt)"
      ]
    },
    {
      "cell_type": "markdown",
      "metadata": {
        "id": "_lwIwIhhKUw7"
      },
      "source": [
        "```\n",
        "1, 2, 3, 4, 5\n",
        "6,  ,  , 7, 8\n",
        " ,  , 9,10,11\n",
        "```"
      ]
    },
    {
      "cell_type": "code",
      "metadata": {
        "id": "XdV3hpOcKUw7",
        "colab": {
          "base_uri": "https://localhost:8080/"
        },
        "outputId": "d9e03522-d5a9-4bc0-8847-ca3e5bd7d5be"
      },
      "source": [
        "from io import StringIO\n",
        "\n",
        "fi = StringIO(\"\"\"1, 2, 3, 4, 5\\n\n",
        "6,  ,  , 7, 8\\n\n",
        " ,  , 9,10,11\\n\"\"\")\n",
        "print(np.genfromtxt(fi, delimiter=',',dtype=np.int))\n"
      ],
      "execution_count": null,
      "outputs": [
        {
          "output_type": "stream",
          "text": [
            "[[ 1  2  3  4  5]\n",
            " [ 6 -1 -1  7  8]\n",
            " [-1 -1  9 10 11]]\n"
          ],
          "name": "stdout"
        }
      ]
    },
    {
      "cell_type": "markdown",
      "metadata": {
        "id": "3RfJ9I4lKUw7"
      },
      "source": [
        "#### 55. What is the equivalent of enumerate for numpy arrays? (★★☆) \n",
        "(**hint**: np.ndenumerate, np.ndindex)"
      ]
    },
    {
      "cell_type": "code",
      "metadata": {
        "id": "cyAxiTaSKUw8",
        "colab": {
          "base_uri": "https://localhost:8080/"
        },
        "outputId": "69e611a4-1e45-4c47-fda6-aa4d76195a6c"
      },
      "source": [
        "Z = np.arange(9).reshape(3,3)\n",
        "\n",
        "for index, value in np.ndenumerate(Z):\n",
        "\n",
        "  print(index, value)\n",
        "\n",
        "for index in np.ndindex(Z.shape):\n",
        "\n",
        "  print(index, Z[index])"
      ],
      "execution_count": null,
      "outputs": [
        {
          "output_type": "stream",
          "text": [
            "(0, 0) 0\n",
            "(0, 1) 1\n",
            "(0, 2) 2\n",
            "(1, 0) 3\n",
            "(1, 1) 4\n",
            "(1, 2) 5\n",
            "(2, 0) 6\n",
            "(2, 1) 7\n",
            "(2, 2) 8\n",
            "(0, 0) 0\n",
            "(0, 1) 1\n",
            "(0, 2) 2\n",
            "(1, 0) 3\n",
            "(1, 1) 4\n",
            "(1, 2) 5\n",
            "(2, 0) 6\n",
            "(2, 1) 7\n",
            "(2, 2) 8\n"
          ],
          "name": "stdout"
        }
      ]
    },
    {
      "cell_type": "markdown",
      "metadata": {
        "id": "aJgNtcJ_KUw8"
      },
      "source": [
        "#### 56. Generate a generic 2D Gaussian-like array (★★☆) \n",
        "(**hint**: np.meshgrid, np.exp)"
      ]
    },
    {
      "cell_type": "code",
      "metadata": {
        "id": "iRwZGgmkNoow",
        "colab": {
          "base_uri": "https://localhost:8080/"
        },
        "outputId": "260e96c6-fa04-4ae5-ed05-76b03dce999e"
      },
      "source": [
        "X, Y = np.meshgrid(np.linspace(-1,1,10), np.linspace(-1,1,10))\n",
        "\n",
        "D = np.sqrt(X*X+Y*Y)\n",
        "\n",
        "sigma, mu = 1.0, 0.0\n",
        "\n",
        "G = np.exp(-( (D-mu)**2 / ( 2.0 * sigma**2 ) ) )\n",
        "\n",
        "print(G)"
      ],
      "execution_count": null,
      "outputs": [
        {
          "output_type": "stream",
          "text": [
            "[[0.36787944 0.44822088 0.51979489 0.57375342 0.60279818 0.60279818\n",
            "  0.57375342 0.51979489 0.44822088 0.36787944]\n",
            " [0.44822088 0.54610814 0.63331324 0.69905581 0.73444367 0.73444367\n",
            "  0.69905581 0.63331324 0.54610814 0.44822088]\n",
            " [0.51979489 0.63331324 0.73444367 0.81068432 0.85172308 0.85172308\n",
            "  0.81068432 0.73444367 0.63331324 0.51979489]\n",
            " [0.57375342 0.69905581 0.81068432 0.89483932 0.9401382  0.9401382\n",
            "  0.89483932 0.81068432 0.69905581 0.57375342]\n",
            " [0.60279818 0.73444367 0.85172308 0.9401382  0.98773022 0.98773022\n",
            "  0.9401382  0.85172308 0.73444367 0.60279818]\n",
            " [0.60279818 0.73444367 0.85172308 0.9401382  0.98773022 0.98773022\n",
            "  0.9401382  0.85172308 0.73444367 0.60279818]\n",
            " [0.57375342 0.69905581 0.81068432 0.89483932 0.9401382  0.9401382\n",
            "  0.89483932 0.81068432 0.69905581 0.57375342]\n",
            " [0.51979489 0.63331324 0.73444367 0.81068432 0.85172308 0.85172308\n",
            "  0.81068432 0.73444367 0.63331324 0.51979489]\n",
            " [0.44822088 0.54610814 0.63331324 0.69905581 0.73444367 0.73444367\n",
            "  0.69905581 0.63331324 0.54610814 0.44822088]\n",
            " [0.36787944 0.44822088 0.51979489 0.57375342 0.60279818 0.60279818\n",
            "  0.57375342 0.51979489 0.44822088 0.36787944]]\n"
          ],
          "name": "stdout"
        }
      ]
    },
    {
      "cell_type": "markdown",
      "metadata": {
        "id": "20Qq2eorKUw8"
      },
      "source": [
        "#### 57. How to randomly place p elements in a 2D array? (★★☆) \n",
        "(**hint**: np.put, np.random.choice)"
      ]
    },
    {
      "cell_type": "code",
      "metadata": {
        "colab": {
          "base_uri": "https://localhost:8080/"
        },
        "id": "XC9oNx_rPnWz",
        "outputId": "bc7c1dab-dd21-475a-b5aa-c95ee49cb139"
      },
      "source": [
        "np.random.choice(range(10*10),2)"
      ],
      "execution_count": null,
      "outputs": [
        {
          "output_type": "execute_result",
          "data": {
            "text/plain": [
              "array([98, 49])"
            ]
          },
          "metadata": {
            "tags": []
          },
          "execution_count": 69
        }
      ]
    },
    {
      "cell_type": "code",
      "metadata": {
        "id": "aGr5Q5fHKUw8",
        "colab": {
          "base_uri": "https://localhost:8080/"
        },
        "outputId": "c10764c8-780a-4a2a-ec81-fb98b5018300"
      },
      "source": [
        "# array , position , values\n",
        "n = 10\n",
        "p =2\n",
        "arr = np.zeros((n,n))\n",
        "np.put(arr,  np.random.choice(range(n*n)   ,p ),1)\n",
        "print(arr)"
      ],
      "execution_count": null,
      "outputs": [
        {
          "output_type": "stream",
          "text": [
            "[[0. 0. 0. 0. 0. 0. 0. 0. 0. 0.]\n",
            " [0. 0. 0. 0. 0. 0. 0. 0. 0. 0.]\n",
            " [0. 0. 0. 0. 0. 0. 0. 0. 0. 0.]\n",
            " [0. 0. 0. 0. 0. 0. 0. 0. 0. 0.]\n",
            " [0. 0. 0. 0. 0. 0. 0. 0. 0. 0.]\n",
            " [0. 0. 0. 0. 0. 0. 0. 0. 0. 0.]\n",
            " [0. 0. 0. 0. 0. 0. 0. 0. 0. 0.]\n",
            " [0. 0. 0. 0. 0. 0. 0. 0. 0. 0.]\n",
            " [0. 0. 0. 1. 0. 0. 0. 0. 0. 0.]\n",
            " [0. 0. 0. 0. 0. 0. 0. 0. 1. 0.]]\n"
          ],
          "name": "stdout"
        }
      ]
    },
    {
      "cell_type": "markdown",
      "metadata": {
        "id": "qIEk-DTnKUw9"
      },
      "source": [
        "#### 58. Subtract the mean of each row of a matrix (★★☆) \n",
        "(**hint**: mean(axis=,keepdims=))"
      ]
    },
    {
      "cell_type": "code",
      "metadata": {
        "id": "yXphZVpNKUw9"
      },
      "source": [
        "arr = np.random.rand(5,10)\n",
        "arr = arr - arr.mean(axis=1)\n",
        "arr"
      ],
      "execution_count": null,
      "outputs": []
    },
    {
      "cell_type": "code",
      "metadata": {
        "id": "QELBKUf7TfKP"
      },
      "source": [
        "X = np.random.rand(5, 10)\n",
        "\n",
        "# Recent versions of numpy\n",
        "\n",
        "Y = X - X.mean(axis=1, keepdims=True)\n",
        "\n",
        "# Older versions of numpy\n",
        "\n",
        "Y = X - X.mean(axis=1).reshape(-1, 1)\n",
        "\n",
        "print(Y)"
      ],
      "execution_count": null,
      "outputs": []
    },
    {
      "cell_type": "markdown",
      "metadata": {
        "id": "VcaTkscwKUw9"
      },
      "source": [
        "#### 59. How to sort an array by the nth column? (★★☆) \n",
        "(**hint**: argsort)"
      ]
    },
    {
      "cell_type": "code",
      "metadata": {
        "id": "dmxWZeJ8KUw9",
        "colab": {
          "base_uri": "https://localhost:8080/"
        },
        "outputId": "5ad41b4e-d3f3-49ed-e6b7-0843c796dd26"
      },
      "source": [
        "#argsort returns the sort of the indices \n",
        "arr = np.random.randint(0,3,(3,3))\n",
        "print(arr)\n",
        "print(arr[arr[:,2].argsort()])"
      ],
      "execution_count": null,
      "outputs": [
        {
          "output_type": "stream",
          "text": [
            "[[0 1 1]\n",
            " [2 2 2]\n",
            " [0 0 1]]\n",
            "[[0 1 1]\n",
            " [0 0 1]\n",
            " [2 2 2]]\n"
          ],
          "name": "stdout"
        }
      ]
    },
    {
      "cell_type": "markdown",
      "metadata": {
        "id": "iOZaqXxhKUw9"
      },
      "source": [
        "#### 60. How to tell if a given 2D array has null columns? (★★☆) \n",
        "(**hint**: any, ~)"
      ]
    },
    {
      "cell_type": "code",
      "metadata": {
        "id": "FkreKVxKKUw-",
        "colab": {
          "base_uri": "https://localhost:8080/"
        },
        "outputId": "f731275b-8a32-4a19-e691-4d4d1146ae0b"
      },
      "source": [
        "arr = np.random.randint(0,3,(3,3))\n",
        "print(arr)\n",
        "print(~arr.any())"
      ],
      "execution_count": null,
      "outputs": [
        {
          "output_type": "stream",
          "text": [
            "[[1 1 0]\n",
            " [2 0 1]\n",
            " [1 2 1]]\n",
            "False\n"
          ],
          "name": "stdout"
        }
      ]
    },
    {
      "cell_type": "markdown",
      "metadata": {
        "id": "a-eQdfRQKUw-"
      },
      "source": [
        "#### 61. Find the nearest value from a given value in an array (★★☆) \n",
        "(**hint**: np.abs, argmin, flat)"
      ]
    },
    {
      "cell_type": "code",
      "metadata": {
        "id": "y_NiuNVdKUw-",
        "colab": {
          "base_uri": "https://localhost:8080/"
        },
        "outputId": "5af14504-5e2b-4925-95e2-6e1c4794515b"
      },
      "source": [
        "Z = np.random.uniform(0,1,10)\n",
        "\n",
        "z = 0.5\n",
        "\n",
        "m = Z.flat[np.abs(Z - z).argmin()]\n",
        "\n",
        "print(m)"
      ],
      "execution_count": null,
      "outputs": [
        {
          "output_type": "stream",
          "text": [
            "0.5084065794914956\n"
          ],
          "name": "stdout"
        }
      ]
    },
    {
      "cell_type": "markdown",
      "metadata": {
        "id": "Mile79dLKUw-"
      },
      "source": [
        "#### 62. Considering two arrays with shape (1,3) and (3,1), how to compute their sum using an iterator? (★★☆) \n",
        "(**hint**: np.nditer)"
      ]
    },
    {
      "cell_type": "code",
      "metadata": {
        "id": "hOs0NtZTKUw-",
        "colab": {
          "base_uri": "https://localhost:8080/"
        },
        "outputId": "fa503330-22ed-4f11-8824-00c6e522b93a"
      },
      "source": [
        "A = np.arange(3).reshape(3,1)\n",
        "\n",
        "B = np.arange(3).reshape(1,3)\n",
        "\n",
        "it = np.nditer([A,B,None])\n",
        "\n",
        "for x,y,z in it: z[...] = x + y\n",
        "\n",
        "print(it.operands[2])"
      ],
      "execution_count": null,
      "outputs": [
        {
          "output_type": "stream",
          "text": [
            "[[0 1 2]\n",
            " [1 2 3]\n",
            " [2 3 4]]\n"
          ],
          "name": "stdout"
        }
      ]
    },
    {
      "cell_type": "markdown",
      "metadata": {
        "id": "1_e7hxhvKUw_"
      },
      "source": [
        "#### 64. Consider a given vector, how to add 1 to each element indexed by a second vector (be careful with repeated indices)? (★★★) \n",
        "(**hint**: np.bincount | np.add.at)"
      ]
    },
    {
      "cell_type": "code",
      "metadata": {
        "id": "mpIYVD8zKUw_",
        "colab": {
          "base_uri": "https://localhost:8080/"
        },
        "outputId": "ff5cbe3d-adc1-4b0a-f9e6-3c305a71ac7f"
      },
      "source": [
        "Z = np.ones(10)\n",
        "\n",
        "I = np.random.randint(0,len(Z),20)\n",
        "\n",
        "Z += np.bincount(I, minlength=len(Z))\n",
        "\n",
        "print(Z)"
      ],
      "execution_count": null,
      "outputs": [
        {
          "output_type": "stream",
          "text": [
            "[1. 7. 3. 2. 4. 5. 3. 2. 1. 2.]\n"
          ],
          "name": "stdout"
        }
      ]
    },
    {
      "cell_type": "markdown",
      "metadata": {
        "id": "4CWExSk8KUw_"
      },
      "source": [
        "#### 65. How to accumulate elements of a vector (X) to an array (F) based on an index list (I)? (★★★) \n",
        "(**hint**: np.bincount)"
      ]
    },
    {
      "cell_type": "code",
      "metadata": {
        "id": "8FFFR_J7KUxA",
        "colab": {
          "base_uri": "https://localhost:8080/"
        },
        "outputId": "02bbeef0-565a-4e9b-9194-43322eb1233b"
      },
      "source": [
        "X = [1,2,3,4,5,6]\n",
        "\n",
        "I = [1,3,9,3,4,1]\n",
        "\n",
        "F = np.bincount(I,X)\n",
        "\n",
        "print(F)"
      ],
      "execution_count": null,
      "outputs": [
        {
          "output_type": "stream",
          "text": [
            "[0. 7. 0. 6. 5. 0. 0. 0. 0. 3.]\n"
          ],
          "name": "stdout"
        }
      ]
    },
    {
      "cell_type": "markdown",
      "metadata": {
        "id": "bAuK8aEYKUxA"
      },
      "source": [
        "#### 66. Considering a (w,h,3) image of (dtype=ubyte), compute the number of unique colors (★★★) \n",
        "(**hint**: np.unique)"
      ]
    },
    {
      "cell_type": "code",
      "metadata": {
        "id": "FgSmY-hcKUxA",
        "colab": {
          "base_uri": "https://localhost:8080/"
        },
        "outputId": "0d89256f-7a26-498e-e0bc-4862fa82be8c"
      },
      "source": [
        "w , h = 16, 16\n",
        "l = np.random.randint(0,2 , (h,w,3)).astype(np.ubyte)\n",
        "\n",
        "F = l[...,0]*256*256 + l[...,1]*256 +l[...,2]\n",
        "\n",
        "n = len(np.unique(F))\n",
        "\n",
        "print(np.unique(l))\n"
      ],
      "execution_count": null,
      "outputs": [
        {
          "output_type": "stream",
          "text": [
            "[0 1]\n"
          ],
          "name": "stdout"
        }
      ]
    },
    {
      "cell_type": "markdown",
      "metadata": {
        "id": "ArO2ubN7KUxA"
      },
      "source": [
        "#### 67. Considering a four dimensions array, how to get sum over the last two axis at once? (★★★) \n",
        "(**hint**: sum(axis=(-2,-1)))"
      ]
    },
    {
      "cell_type": "code",
      "metadata": {
        "id": "YC1uUiQ7KUxA",
        "colab": {
          "base_uri": "https://localhost:8080/"
        },
        "outputId": "f30f8a03-6442-43f6-dab4-11091a33340e"
      },
      "source": [
        "sum = A.reshape(A.shape[:-2] + (-1,)).sum(axis=-1)\n",
        "\n",
        "print(sum)"
      ],
      "execution_count": null,
      "outputs": [
        {
          "output_type": "stream",
          "text": [
            "3\n"
          ],
          "name": "stdout"
        }
      ]
    },
    {
      "cell_type": "markdown",
      "metadata": {
        "id": "79-VVHGjKUxB"
      },
      "source": [
        "#### 68. Considering a one-dimensional vector D, how to compute means of subsets of D using a vector S of same size describing subset  indices? (★★★) \n",
        "(**hint**: np.bincount)"
      ]
    },
    {
      "cell_type": "code",
      "metadata": {
        "id": "FCtqqyHwKUxB",
        "colab": {
          "base_uri": "https://localhost:8080/"
        },
        "outputId": "c0f1258f-e9d9-4d84-cdaf-d39d0da2c447"
      },
      "source": [
        "D = np.random.uniform(0,1,100)\n",
        "\n",
        "S = np.random.randint(0,10,100)\n",
        "\n",
        "D_sums = np.bincount(S, weights=D)\n",
        "\n",
        "D_counts = np.bincount(S)\n",
        "\n",
        "D_means = D_sums / D_counts\n",
        "\n",
        "print(D_means)"
      ],
      "execution_count": null,
      "outputs": [
        {
          "output_type": "stream",
          "text": [
            "[0.39089928 0.42113136 0.48805326 0.55272218 0.64332726 0.51066752\n",
            " 0.3935582  0.62012679 0.57089299 0.21844855]\n"
          ],
          "name": "stdout"
        }
      ]
    },
    {
      "cell_type": "markdown",
      "metadata": {
        "id": "28hW9soFKUxB"
      },
      "source": [
        "#### 69. How to get the diagonal of a dot product? (★★★) \n",
        "(**hint**: np.diag)"
      ]
    },
    {
      "cell_type": "code",
      "metadata": {
        "id": "4KSXSYBqKUxB"
      },
      "source": [
        "arr = np.random.uniform(0,1,(5,5))\n",
        "arr1 = np.random.uniform(0,1,(5,5))\n",
        "np.diag(np.dot(arr,arr1))"
      ],
      "execution_count": null,
      "outputs": []
    },
    {
      "cell_type": "markdown",
      "metadata": {
        "id": "F98pRCJjKUxB"
      },
      "source": [
        "#### 70. Consider the vector \\[1, 2, 3, 4, 5\\], how to build a new vector with 3 consecutive zeros interleaved between each value? (★★★) \n",
        "(**hint**: array\\[::4\\])"
      ]
    },
    {
      "cell_type": "code",
      "metadata": {
        "id": "5JZrdPJdKUxC",
        "colab": {
          "base_uri": "https://localhost:8080/"
        },
        "outputId": "fe3e9e3a-a584-4b37-a530-22da8928ab67"
      },
      "source": [
        "arr = np.array([1,2,3,4,5])\n",
        "no = np.zeros(17)\n",
        "no[::4] = arr #boardcasting applied here\n",
        "no"
      ],
      "execution_count": null,
      "outputs": [
        {
          "output_type": "execute_result",
          "data": {
            "text/plain": [
              "array([1., 0., 0., 0., 2., 0., 0., 0., 3., 0., 0., 0., 4., 0., 0., 0., 5.])"
            ]
          },
          "metadata": {
            "tags": []
          },
          "execution_count": 11
        }
      ]
    },
    {
      "cell_type": "markdown",
      "metadata": {
        "id": "q-lC9VgCKUxC"
      },
      "source": [
        "#### 71. Consider an array of dimension (5,5,3), how to mulitply it by an array with dimensions (5,5)? (★★★) \n",
        "(**hint**: array\\[:, :, None\\])"
      ]
    },
    {
      "cell_type": "code",
      "metadata": {
        "collapsed": true,
        "id": "jWBlwHNhKUxC"
      },
      "source": [
        "arr = np.random.randint(1,10,(5,5,3))\n",
        "arr1 = np.random.randint(1,10,(5,5))\n",
        "\n",
        "arr1[:,:,None].shape # (5,5,1)\n",
        "arr*arr1[:,:,None]"
      ],
      "execution_count": null,
      "outputs": []
    },
    {
      "cell_type": "markdown",
      "metadata": {
        "id": "T5BEp4ihKUxC"
      },
      "source": [
        "#### 72. How to swap two rows of an array? (★★★) \n",
        "(**hint**: array\\[\\[\\]\\] = array\\[\\[\\]\\])"
      ]
    },
    {
      "cell_type": "code",
      "metadata": {
        "id": "dp3x5SOrKUxC"
      },
      "source": [
        "arr = np.random.randint(1,10,(5,5,3))\n",
        "print(arr)\n",
        "\n",
        "arr[[0,1]] = arr[[0,1]]\n",
        "print(arr)"
      ],
      "execution_count": null,
      "outputs": []
    },
    {
      "cell_type": "markdown",
      "metadata": {
        "id": "U4optU1pKUxD"
      },
      "source": [
        "#### 73. Consider a set of 10 triplets describing 10 triangles (with shared vertices), find the set of unique line segments composing all the  triangles (★★★) \n",
        "(**hint**: repeat, np.roll, np.sort, view, np.unique)"
      ]
    },
    {
      "cell_type": "code",
      "metadata": {
        "id": "SaDrMSEWKUxD",
        "colab": {
          "base_uri": "https://localhost:8080/"
        },
        "outputId": "cdbb627e-615c-4e03-d5f7-4eb57fc52eb4"
      },
      "source": [
        "faces = np.random.randint(0,100,(10,3))\n",
        "\n",
        "F = np.roll(faces.repeat(2,axis=1),-1,axis=1)\n",
        "\n",
        "F = F.reshape(len(F)*3,2)\n",
        "\n",
        "F = np.sort(F,axis=1)\n",
        "\n",
        "G = F.view( dtype=[('p0',F.dtype),('p1',F.dtype)] )\n",
        "\n",
        "G = np.unique(G)\n",
        "\n",
        "print(G)"
      ],
      "execution_count": null,
      "outputs": [
        {
          "output_type": "stream",
          "text": [
            "[( 3, 64) ( 3, 74) (12, 24) (12, 25) (16, 61) (16, 62) (20, 49) (20, 52)\n",
            " (21, 68) (21, 97) (22, 34) (22, 42) (24, 25) (34, 42) (37, 40) (40, 40)\n",
            " (40, 48) (40, 68) (47, 59) (47, 91) (48, 68) (49, 52) (51, 59) (51, 91)\n",
            " (59, 91) (61, 62) (64, 74) (68, 97)]\n"
          ],
          "name": "stdout"
        }
      ]
    },
    {
      "cell_type": "markdown",
      "metadata": {
        "id": "e1SHcAnGKUxD"
      },
      "source": [
        "#### 74. Given an array C that is a bincount, how to produce an array A such that np.bincount(A) == C? (★★★) \n",
        "(**hint**: np.repeat)"
      ]
    },
    {
      "cell_type": "code",
      "metadata": {
        "id": "v5vpi86eKUxD",
        "colab": {
          "base_uri": "https://localhost:8080/"
        },
        "outputId": "c86631b2-7e2d-4859-bd7c-86c93b80d9d5"
      },
      "source": [
        "arr = np.bincount([1,1,2,3,4,4,6])\n",
        "a = np.repeat(np.arange(len(arr)),arr)\n",
        "a"
      ],
      "execution_count": null,
      "outputs": [
        {
          "output_type": "execute_result",
          "data": {
            "text/plain": [
              "array([1, 1, 2, 3, 4, 4, 6])"
            ]
          },
          "metadata": {
            "tags": []
          },
          "execution_count": 7
        }
      ]
    },
    {
      "cell_type": "markdown",
      "metadata": {
        "id": "pbA59k81KUxD"
      },
      "source": [
        "#### 75. How to compute averages using a sliding window over an array? (★★★) \n",
        "(**hint**: np.cumsum)"
      ]
    },
    {
      "cell_type": "code",
      "metadata": {
        "id": "oWGiVfijKUxE",
        "colab": {
          "base_uri": "https://localhost:8080/"
        },
        "outputId": "41cbe93d-1326-464d-f9f7-b5661a658126"
      },
      "source": [
        "def moving_average(a, n=3) :\n",
        "\n",
        "  ret = np.cumsum(a, dtype=float)\n",
        "\n",
        "  ret[n:] = ret[n:] - ret[:-n]\n",
        "\n",
        "  return ret[n - 1:] / n\n",
        "\n",
        "Z = np.arange(20)\n",
        "\n",
        "print(moving_average(Z, n=3))"
      ],
      "execution_count": null,
      "outputs": [
        {
          "output_type": "stream",
          "text": [
            "[ 1.  2.  3.  4.  5.  6.  7.  8.  9. 10. 11. 12. 13. 14. 15. 16. 17. 18.]\n"
          ],
          "name": "stdout"
        }
      ]
    },
    {
      "cell_type": "markdown",
      "metadata": {
        "id": "39EOARVaKUxE"
      },
      "source": [
        "#### 76. Consider a one-dimensional array Z, build a two-dimensional array whose first row is (Z\\[0\\],Z\\[1\\],Z\\[2\\]) and each subsequent row is  shifted by 1 (last row should be (Z\\[-3\\],Z\\[-2\\],Z\\[-1\\]) (★★★) \n",
        "(**hint**: from numpy.lib import stride_tricks)"
      ]
    },
    {
      "cell_type": "code",
      "metadata": {
        "id": "KsYzK56OKUxE",
        "colab": {
          "base_uri": "https://localhost:8080/"
        },
        "outputId": "33b3478a-54a7-48d3-b6c0-27f7e8010845"
      },
      "source": [
        "from numpy.lib import stride_tricks\n",
        "def rolling(arr, window):\n",
        "  shape = ( arr.size - window+1 , window)\n",
        "  strides  = (arr.itemsize , arr.itemsize)\n",
        "  return stride_tricks.as_strided(arr, shape=shape, strides=strides)\n",
        "\n",
        "a = rolling(np.arange(10) , 3)\n",
        "print(a)"
      ],
      "execution_count": null,
      "outputs": [
        {
          "output_type": "stream",
          "text": [
            "[[0 1 2]\n",
            " [1 2 3]\n",
            " [2 3 4]\n",
            " [3 4 5]\n",
            " [4 5 6]\n",
            " [5 6 7]\n",
            " [6 7 8]\n",
            " [7 8 9]]\n"
          ],
          "name": "stdout"
        }
      ]
    },
    {
      "cell_type": "markdown",
      "metadata": {
        "id": "T4E4Ifj9KUxE"
      },
      "source": [
        "#### 77. How to negate a boolean, or to change the sign of a float inplace? (★★★) \n",
        "(**hint**: np.logical_not, np.negative)"
      ]
    },
    {
      "cell_type": "code",
      "metadata": {
        "id": "_sZ5bUKMKUxF",
        "colab": {
          "base_uri": "https://localhost:8080/"
        },
        "outputId": "f8f11269-e972-4ed4-8c83-caef12927677"
      },
      "source": [
        "arr = np.random.randint(0,2,(100))\n",
        "\n",
        "np.logical_not(arr , out = arr)\n",
        "\n",
        "arr = np.random.uniform(-1.0,1.0 , 100)\n",
        "print(arr)\n",
        "np.negative(arr, out= arr)"
      ],
      "execution_count": null,
      "outputs": [
        {
          "output_type": "stream",
          "text": [
            "[-4.39088547e-01 -1.69844422e-01  5.18471285e-02 -1.81213381e-02\n",
            " -2.93589668e-01  4.02060691e-01  7.04978780e-01  3.09154586e-01\n",
            " -6.72441827e-01  3.75664317e-01 -2.07236017e-01 -9.78163251e-01\n",
            "  6.82077132e-01 -8.94854934e-01 -3.11743699e-01 -9.40668755e-01\n",
            " -9.52781502e-01 -9.41622544e-01 -4.13065445e-01  1.17590261e-01\n",
            " -7.78610872e-01 -9.96032735e-01  2.89919232e-01 -6.07194359e-01\n",
            "  7.23840510e-01 -8.78212038e-01 -2.98255976e-01 -1.56077868e-01\n",
            "  4.17092998e-01  7.04046426e-01 -8.04677725e-01 -7.35152985e-01\n",
            "  8.09545084e-01 -2.26218223e-01  6.40719197e-01 -3.44353373e-01\n",
            " -2.93651350e-01 -1.31017275e-01  7.77056870e-01 -3.57916347e-01\n",
            "  8.01642279e-01 -3.98846992e-01  2.32731831e-01  7.04827988e-01\n",
            "  9.56639250e-01 -7.37457592e-01 -9.37198204e-01  4.07997752e-01\n",
            "  3.90654161e-01 -7.78092173e-01 -9.04890386e-01  4.98022845e-01\n",
            "  8.22623217e-01  5.24715702e-01 -5.74367224e-01  5.11271829e-01\n",
            " -4.73425243e-01 -5.19325088e-01  4.60272992e-01  9.15424412e-01\n",
            " -4.41867991e-01  2.35655326e-01 -7.72301999e-01 -9.64951311e-01\n",
            "  2.48459319e-01  1.22120767e-01 -3.32720059e-01  7.17319822e-01\n",
            "  7.06765857e-01  7.75823837e-01  3.67983256e-01  6.58062077e-01\n",
            " -7.97169303e-01 -8.05318967e-01 -8.38472768e-01  4.74360537e-01\n",
            "  8.05291522e-01 -6.78834833e-01 -8.64026998e-01 -4.40051796e-01\n",
            "  8.02358441e-01 -1.01433438e-02  6.73349089e-01 -2.80825026e-01\n",
            "  2.42488166e-01 -6.01000168e-01  4.41600258e-01  7.28061496e-02\n",
            "  9.83074375e-01  5.95621432e-01 -1.23016331e-01  9.29866451e-01\n",
            " -4.87283943e-02  3.40633080e-01 -7.31779247e-01 -4.27129046e-04\n",
            " -7.14052991e-01  1.94352722e-01  1.96634886e-01  3.14339212e-01]\n"
          ],
          "name": "stdout"
        },
        {
          "output_type": "execute_result",
          "data": {
            "text/plain": [
              "array([ 4.39088547e-01,  1.69844422e-01, -5.18471285e-02,  1.81213381e-02,\n",
              "        2.93589668e-01, -4.02060691e-01, -7.04978780e-01, -3.09154586e-01,\n",
              "        6.72441827e-01, -3.75664317e-01,  2.07236017e-01,  9.78163251e-01,\n",
              "       -6.82077132e-01,  8.94854934e-01,  3.11743699e-01,  9.40668755e-01,\n",
              "        9.52781502e-01,  9.41622544e-01,  4.13065445e-01, -1.17590261e-01,\n",
              "        7.78610872e-01,  9.96032735e-01, -2.89919232e-01,  6.07194359e-01,\n",
              "       -7.23840510e-01,  8.78212038e-01,  2.98255976e-01,  1.56077868e-01,\n",
              "       -4.17092998e-01, -7.04046426e-01,  8.04677725e-01,  7.35152985e-01,\n",
              "       -8.09545084e-01,  2.26218223e-01, -6.40719197e-01,  3.44353373e-01,\n",
              "        2.93651350e-01,  1.31017275e-01, -7.77056870e-01,  3.57916347e-01,\n",
              "       -8.01642279e-01,  3.98846992e-01, -2.32731831e-01, -7.04827988e-01,\n",
              "       -9.56639250e-01,  7.37457592e-01,  9.37198204e-01, -4.07997752e-01,\n",
              "       -3.90654161e-01,  7.78092173e-01,  9.04890386e-01, -4.98022845e-01,\n",
              "       -8.22623217e-01, -5.24715702e-01,  5.74367224e-01, -5.11271829e-01,\n",
              "        4.73425243e-01,  5.19325088e-01, -4.60272992e-01, -9.15424412e-01,\n",
              "        4.41867991e-01, -2.35655326e-01,  7.72301999e-01,  9.64951311e-01,\n",
              "       -2.48459319e-01, -1.22120767e-01,  3.32720059e-01, -7.17319822e-01,\n",
              "       -7.06765857e-01, -7.75823837e-01, -3.67983256e-01, -6.58062077e-01,\n",
              "        7.97169303e-01,  8.05318967e-01,  8.38472768e-01, -4.74360537e-01,\n",
              "       -8.05291522e-01,  6.78834833e-01,  8.64026998e-01,  4.40051796e-01,\n",
              "       -8.02358441e-01,  1.01433438e-02, -6.73349089e-01,  2.80825026e-01,\n",
              "       -2.42488166e-01,  6.01000168e-01, -4.41600258e-01, -7.28061496e-02,\n",
              "       -9.83074375e-01, -5.95621432e-01,  1.23016331e-01, -9.29866451e-01,\n",
              "        4.87283943e-02, -3.40633080e-01,  7.31779247e-01,  4.27129046e-04,\n",
              "        7.14052991e-01, -1.94352722e-01, -1.96634886e-01, -3.14339212e-01])"
            ]
          },
          "metadata": {
            "tags": []
          },
          "execution_count": 20
        }
      ]
    },
    {
      "cell_type": "markdown",
      "metadata": {
        "id": "PlsfjJsSKUxF"
      },
      "source": [
        "#### 78. Consider 2 sets of points P0,P1 describing lines (2d) and a point p, how to compute distance from p to each line i  (P0\\[i\\],P1\\[i\\])? (★★★)"
      ]
    },
    {
      "cell_type": "code",
      "metadata": {
        "id": "hb3u6WVKKUxG",
        "colab": {
          "base_uri": "https://localhost:8080/"
        },
        "outputId": "07ca57a9-44a0-4452-dec3-7ce553133f85"
      },
      "source": [
        "def distance(P0, P1, p):\n",
        "\n",
        "  T = P1 - P0\n",
        "\n",
        "  L = (T**2).sum(axis=1)\n",
        "\n",
        "  U = -((P0[:,0]-p[...,0])*T[:,0] + (P0[:,1]-p[...,1])*T[:,1]) / L\n",
        "\n",
        "  U = U.reshape(len(U),1)\n",
        "\n",
        "  D = P0 + U*T - p\n",
        "\n",
        "  return np.sqrt((D**2).sum(axis=1))\n",
        "\n",
        "P0 = np.random.uniform(-10,10,(10,2))\n",
        "\n",
        "P1 = np.random.uniform(-10,10,(10,2))\n",
        "\n",
        "p = np.random.uniform(-10,10,( 1,2))\n",
        "\n",
        "print(distance(P0, P1, p))"
      ],
      "execution_count": null,
      "outputs": [
        {
          "output_type": "stream",
          "text": [
            "[ 7.34271177  3.26062122  1.23907934 11.93457295  0.01267717  1.46081682\n",
            " 12.3037781   3.71033542  2.97183116  8.52640253]\n"
          ],
          "name": "stdout"
        }
      ]
    },
    {
      "cell_type": "markdown",
      "metadata": {
        "id": "VPu0UwjzKUxG"
      },
      "source": [
        "#### 79. Consider 2 sets of points P0,P1 describing lines (2d) and a set of points P, how to compute distance from each point j (P\\[j\\]) to each line i (P0\\[i\\],P1\\[i\\])? (★★★)"
      ]
    },
    {
      "cell_type": "code",
      "metadata": {
        "id": "i5jebL1XKUxG",
        "colab": {
          "base_uri": "https://localhost:8080/"
        },
        "outputId": "351d702f-f170-43a9-c1a6-19d67edaaf1f"
      },
      "source": [
        "P0 = np.random.uniform(-10, 10, (10,2))\n",
        "\n",
        "P1 = np.random.uniform(-10,10,(10,2))\n",
        "\n",
        "p = np.random.uniform(-10, 10, (10,2))\n",
        "\n",
        "print(np.array([distance(P0,P1,p_i) for p_i in p]))"
      ],
      "execution_count": null,
      "outputs": [
        {
          "output_type": "stream",
          "text": [
            "[[ 5.67484887  7.55511822 10.98250252 14.61551744  8.29822757  0.16508453\n",
            "   5.12037523 12.95269981  0.44416846  1.97419536]\n",
            " [10.36017904 13.80972191  5.15989968  1.72781273  2.81571157  1.11276613\n",
            "   7.58018234  5.0470895   7.95157554  6.63864331]\n",
            " [11.70076453  1.38306655  4.83774186 18.46738249  7.39860167 12.70281958\n",
            "   6.73169225  3.9349162   8.01414008  8.49118365]\n",
            " [ 0.51633082  0.83584729 10.12504512  8.56676988  7.57635256  1.73282024\n",
            "   7.46207203  6.88263265  4.6313787   5.13216712]\n",
            " [ 2.18889969  0.50525137 12.00241617  7.53185321  9.4509801   3.45866159\n",
            "   9.14409411  8.4106765   6.06409687  6.71806719]\n",
            " [11.41233074  8.61069783  0.36069991  9.15697537  2.07500737  5.2694051\n",
            "   0.99918045  5.01273257  0.73769009  0.26318479]\n",
            " [ 1.09821289  8.91518087 13.50572931  0.16231474 11.09351197  7.66849317\n",
            "  13.76497118  3.97870716 12.30834067 12.07509208]\n",
            " [ 0.4161985   0.91826976  9.01014162  9.27151991  6.46122141  0.67077233\n",
            "   6.42018864  6.04944502  3.71361025  4.13669013]\n",
            " [ 1.7627659   9.65090704 13.16423323  0.50875017 10.76352852  7.57479666\n",
            "  13.71399078  3.26029398 12.44468576 12.10492278]\n",
            " [12.97910479 13.45194704  1.63448103  4.4457183   0.7205082   2.44711187\n",
            "   4.0522621   7.27852371  4.68615874  3.19949821]]\n"
          ],
          "name": "stdout"
        }
      ]
    },
    {
      "cell_type": "markdown",
      "metadata": {
        "id": "mk8KtPzcKUxG"
      },
      "source": [
        "#### 80. Consider an arbitrary array, write a function that extract a subpart with a fixed shape and centered on a given element (pad with a `fill` value when necessary) (★★★) \n",
        "(**hint**: minimum, maximum)"
      ]
    },
    {
      "cell_type": "code",
      "metadata": {
        "id": "YSbP5nwFKUxH",
        "colab": {
          "base_uri": "https://localhost:8080/"
        },
        "outputId": "d9b3b1a2-a0de-4f02-e526-db262504742a"
      },
      "source": [
        "Z = np.random.randint(0,10,(10,10))\n",
        "\n",
        "shape = (5,5)\n",
        "\n",
        "fill = 0\n",
        "\n",
        "position = (1,1)\n",
        "\n",
        "R = np.ones(shape, dtype=Z.dtype)*fill\n",
        "\n",
        "P = np.array(list(position)).astype(int)\n",
        "\n",
        "Rs = np.array(list(R.shape)).astype(int)\n",
        "\n",
        "Zs = np.array(list(Z.shape)).astype(int)\n",
        "\n",
        "R_start = np.zeros((len(shape),)).astype(int)\n",
        "\n",
        "R_stop = np.array(list(shape)).astype(int)\n",
        "\n",
        "Z_start = (P-Rs//2)\n",
        "\n",
        "Z_stop = (P+Rs//2)+Rs%2\n",
        "\n",
        "R_start = (R_start - np.minimum(Z_start,0)).tolist()\n",
        "\n",
        "Z_start = (np.maximum(Z_start,0)).tolist()\n",
        "\n",
        "R_stop = np.maximum(R_start, (R_stop - np.maximum(Z_stop-Zs,0))).tolist()\n",
        "\n",
        "Z_stop = (np.minimum(Z_stop,Zs)).tolist()\n",
        "\n",
        "r = [slice(start,stop) for start,stop in zip(R_start,R_stop)]\n",
        "\n",
        "z = [slice(start,stop) for start,stop in zip(Z_start,Z_stop)]\n",
        "\n",
        "R[r] = Z[z]\n",
        "\n",
        "print(Z)\n",
        "\n",
        "print(R)"
      ],
      "execution_count": null,
      "outputs": [
        {
          "output_type": "stream",
          "text": [
            "[[8 6 2 6 3 5 6 5 3 7]\n",
            " [0 8 6 1 0 0 2 5 0 7]\n",
            " [6 5 8 1 1 4 5 7 3 2]\n",
            " [4 2 6 1 9 7 4 0 4 4]\n",
            " [2 6 4 5 8 9 0 4 4 6]\n",
            " [2 2 0 5 3 0 7 0 9 0]\n",
            " [0 8 1 1 0 8 9 3 2 0]\n",
            " [9 1 8 9 8 3 7 8 9 0]\n",
            " [1 4 7 1 0 4 6 4 7 5]\n",
            " [2 7 3 6 4 8 1 7 1 6]]\n",
            "[[0 0 0 0 0]\n",
            " [0 8 6 2 6]\n",
            " [0 0 8 6 1]\n",
            " [0 6 5 8 1]\n",
            " [0 4 2 6 1]]\n"
          ],
          "name": "stdout"
        },
        {
          "output_type": "stream",
          "text": [
            "/usr/local/lib/python3.7/dist-packages/ipykernel_launcher.py:37: FutureWarning: Using a non-tuple sequence for multidimensional indexing is deprecated; use `arr[tuple(seq)]` instead of `arr[seq]`. In the future this will be interpreted as an array index, `arr[np.array(seq)]`, which will result either in an error or a different result.\n"
          ],
          "name": "stderr"
        }
      ]
    },
    {
      "cell_type": "markdown",
      "metadata": {
        "id": "8emrvYvnKUxH"
      },
      "source": [
        "#### 81. Consider an array Z = \\[1,2,3,4,5,6,7,8,9,10,11,12,13,14\\], how to generate an array R = \\[\\[1,2,3,4\\], \\[2,3,4,5\\], \\[3,4,5,6\\], ..., \\[11,12,13,14\\]\\]? (★★★) \n",
        "(**hint**: stride\\_tricks.as\\_strided)"
      ]
    },
    {
      "cell_type": "code",
      "metadata": {
        "id": "vMtp0bj2KUxH",
        "colab": {
          "base_uri": "https://localhost:8080/"
        },
        "outputId": "4bb73fd3-7dc0-4eeb-ef4a-c445b3cd60ed"
      },
      "source": [
        "arr = np.arange(1,15, dtype=np.uint32)\n",
        "print(stride_tricks.as_strided(arr, (11,4),(4,4)))"
      ],
      "execution_count": null,
      "outputs": [
        {
          "output_type": "stream",
          "text": [
            "[[ 1  2  3  4]\n",
            " [ 2  3  4  5]\n",
            " [ 3  4  5  6]\n",
            " [ 4  5  6  7]\n",
            " [ 5  6  7  8]\n",
            " [ 6  7  8  9]\n",
            " [ 7  8  9 10]\n",
            " [ 8  9 10 11]\n",
            " [ 9 10 11 12]\n",
            " [10 11 12 13]\n",
            " [11 12 13 14]]\n"
          ],
          "name": "stdout"
        }
      ]
    },
    {
      "cell_type": "markdown",
      "metadata": {
        "id": "IbWXhP2mKUxH"
      },
      "source": [
        "#### 82. Compute a matrix rank (★★★) \n",
        "(**hint**: np.linalg.svd) (suggestion: np.linalg.svd)"
      ]
    },
    {
      "cell_type": "code",
      "metadata": {
        "id": "0p0viufhKUxH",
        "colab": {
          "base_uri": "https://localhost:8080/"
        },
        "outputId": "f99b514d-b7a6-4208-8ea6-6a1bf6e26eab"
      },
      "source": [
        "Z = np.random.uniform(0,1,(10,10))\n",
        "\n",
        "U, S, V = np.linalg.svd(Z) # Singular Value Decomposition\n",
        "\n",
        "rank = np.sum(S > 1e-10)\n",
        "\n",
        "print(rank)\n",
        "\n"
      ],
      "execution_count": null,
      "outputs": [
        {
          "output_type": "stream",
          "text": [
            "10\n"
          ],
          "name": "stdout"
        }
      ]
    },
    {
      "cell_type": "markdown",
      "metadata": {
        "id": "J3E3bmNpKUxI"
      },
      "source": [
        "#### 83. How to find the most frequent value in an array? \n",
        "(**hint**: np.bincount, argmax)"
      ]
    },
    {
      "cell_type": "code",
      "metadata": {
        "id": "mC7phCMCKUxI",
        "colab": {
          "base_uri": "https://localhost:8080/"
        },
        "outputId": "fb64b7dd-1afb-4c27-ff0d-bdff5627392a"
      },
      "source": [
        "arr = np.random.randint(0,10,100)\n",
        "print(arr)\n",
        "print(np.bincount(arr).argmax())"
      ],
      "execution_count": null,
      "outputs": [
        {
          "output_type": "stream",
          "text": [
            "[8 7 6 5 6 9 5 2 7 9 4 4 0 7 6 6 5 4 0 3 2 7 8 5 6 6 2 1 1 9 7 1 3 4 5 3 3\n",
            " 5 3 7 6 8 5 4 2 9 8 9 3 7 6 3 5 7 7 5 5 6 1 2 3 2 4 3 4 4 8 8 3 0 8 0 5 9\n",
            " 1 3 5 6 4 2 7 4 2 7 7 2 1 2 1 5 6 5 3 2 9 7 8 7 1 3]\n",
            "5\n"
          ],
          "name": "stdout"
        }
      ]
    },
    {
      "cell_type": "markdown",
      "metadata": {
        "id": "jYNixuz5KUxI"
      },
      "source": [
        "#### 84. Extract all the contiguous 3x3 blocks from a random 10x10 matrix (★★★) \n",
        "(**hint**: stride\\_tricks.as\\_strided)"
      ]
    },
    {
      "cell_type": "code",
      "metadata": {
        "id": "_i2mACTQKUxI",
        "colab": {
          "base_uri": "https://localhost:8080/"
        },
        "outputId": "2e206071-8b40-4680-9752-72d47a8707cc"
      },
      "source": [
        "Z = np.random.randint(0,5,(10,10))\n",
        "\n",
        "\n",
        "n = 3\n",
        "\n",
        "i = 1 + (Z.shape[0]-3)\n",
        "\n",
        "j = 1 + (Z.shape[1]-3)\n",
        "\n",
        "C = stride_tricks.as_strided(Z, shape=(i, j, n, n), strides=Z.strides + Z.strides)\n",
        "\n",
        "print(C.shape)"
      ],
      "execution_count": null,
      "outputs": [
        {
          "output_type": "stream",
          "text": [
            "(8, 8, 3, 3)\n"
          ],
          "name": "stdout"
        }
      ]
    },
    {
      "cell_type": "code",
      "metadata": {
        "colab": {
          "base_uri": "https://localhost:8080/"
        },
        "id": "Z-fVYGH4-dgm",
        "outputId": "9f50e391-ffba-4820-9375-975dea83a7ee"
      },
      "source": [
        "Z"
      ],
      "execution_count": null,
      "outputs": [
        {
          "output_type": "execute_result",
          "data": {
            "text/plain": [
              "array([[0, 2, 4, 3, 0, 0, 0, 2, 0, 1],\n",
              "       [0, 2, 1, 4, 4, 1, 0, 1, 3, 0],\n",
              "       [0, 2, 2, 1, 4, 1, 0, 3, 1, 4],\n",
              "       [4, 4, 0, 1, 1, 4, 3, 2, 4, 1],\n",
              "       [2, 4, 3, 3, 3, 0, 3, 1, 4, 4],\n",
              "       [1, 1, 0, 0, 0, 3, 1, 1, 0, 3],\n",
              "       [0, 1, 0, 1, 4, 3, 4, 1, 0, 4],\n",
              "       [1, 0, 1, 1, 2, 1, 3, 2, 1, 2],\n",
              "       [2, 4, 0, 2, 3, 1, 0, 3, 0, 0],\n",
              "       [2, 1, 0, 2, 1, 4, 0, 2, 4, 4]])"
            ]
          },
          "metadata": {
            "tags": []
          },
          "execution_count": 31
        }
      ]
    },
    {
      "cell_type": "markdown",
      "metadata": {
        "id": "WZIXYK28KUxI"
      },
      "source": [
        "#### 85. Create a 2D array subclass such that Z\\[i,j\\] == Z\\[j,i\\] (★★★) \n",
        "(**hint**: class method)"
      ]
    },
    {
      "cell_type": "code",
      "metadata": {
        "id": "4tpQV4mLKUxJ",
        "colab": {
          "base_uri": "https://localhost:8080/"
        },
        "outputId": "27cc166e-a8b6-49f5-e46a-24f60195a4c1"
      },
      "source": [
        "class Symetric(np.ndarray):\n",
        "\n",
        "  def __setitem__(self, index, value):\n",
        "\n",
        "    i,j = index\n",
        "\n",
        "    super(Symetric, self).__setitem__((i,j), value)\n",
        "\n",
        "    super(Symetric, self).__setitem__((j,i), value)\n",
        "\n",
        "  def symetric(Z):\n",
        "\n",
        "    return np.asarray(Z + Z.T - np.diag(Z.diagonal())).view(Symetric)\n",
        "\n",
        "    S = symetric(np.random.randint(0,10,(5,5)))\n",
        "\n",
        "    S[2,3] = 42\n",
        "\n",
        "print(S)"
      ],
      "execution_count": null,
      "outputs": [
        {
          "output_type": "stream",
          "text": [
            "[5.09206531 1.63700455 1.26292479 1.11962664 0.88278027 0.75261296\n",
            " 0.50821838 0.3815717  0.15562491 0.09800113]\n"
          ],
          "name": "stdout"
        }
      ]
    },
    {
      "cell_type": "markdown",
      "metadata": {
        "id": "YGxzyLeuKUxJ"
      },
      "source": [
        "#### 86. Consider a set of p matrices wich shape (n,n) and a set of p vectors with shape (n,1). How to compute the sum of of the p matrix products at once? (result has shape (n,1)) (★★★) \n",
        "(**hint**: np.tensordot)"
      ]
    },
    {
      "cell_type": "code",
      "metadata": {
        "id": "fowJCsRyKUxJ",
        "colab": {
          "base_uri": "https://localhost:8080/"
        },
        "outputId": "7414fd2e-c576-4f14-93a9-1cf5390d129c"
      },
      "source": [
        "p, n = 10, 20\n",
        "\n",
        "M = np.ones((p,n,n))\n",
        "\n",
        "V = np.ones((p,n,1))\n",
        "\n",
        "S = np.tensordot(M, V, axes=[[0, 2], [0, 1]])\n",
        "\n",
        "print(S)\n",
        "\n",
        "# It works, because:\n",
        "\n",
        "# M is (p,n,n)\n",
        "\n",
        "# V is (p,n,1)\n",
        "\n",
        "# Thus, summing over the paired axes 0 and 0 (of M and V independently),\n",
        "\n",
        "# and 2 and 1, to remain with a (n,1) vector."
      ],
      "execution_count": null,
      "outputs": [
        {
          "output_type": "stream",
          "text": [
            "[[200.]\n",
            " [200.]\n",
            " [200.]\n",
            " [200.]\n",
            " [200.]\n",
            " [200.]\n",
            " [200.]\n",
            " [200.]\n",
            " [200.]\n",
            " [200.]\n",
            " [200.]\n",
            " [200.]\n",
            " [200.]\n",
            " [200.]\n",
            " [200.]\n",
            " [200.]\n",
            " [200.]\n",
            " [200.]\n",
            " [200.]\n",
            " [200.]]\n"
          ],
          "name": "stdout"
        }
      ]
    },
    {
      "cell_type": "markdown",
      "metadata": {
        "id": "aZpWWFB3KUxJ"
      },
      "source": [
        "#### 87. Consider a 16x16 array, how to get the block-sum (block size is 4x4)? (★★★) \n",
        "(**hint**: np.add.reduceat)"
      ]
    },
    {
      "cell_type": "code",
      "metadata": {
        "id": "cN36D1ZeKUxJ",
        "colab": {
          "base_uri": "https://localhost:8080/"
        },
        "outputId": "7ddde8c6-1087-41e9-a538-15045f1580e5"
      },
      "source": [
        "Z = np.ones((16,16))\n",
        "\n",
        "k = 4\n",
        "\n",
        "S = np.add.reduceat(np.add.reduceat(Z, np.arange(0, Z.shape[0], k), axis=0),\n",
        "\n",
        "np.arange(0, Z.shape[1], k), axis=1)\n",
        "\n",
        "print(S)"
      ],
      "execution_count": null,
      "outputs": [
        {
          "output_type": "stream",
          "text": [
            "[[16. 16. 16. 16.]\n",
            " [16. 16. 16. 16.]\n",
            " [16. 16. 16. 16.]\n",
            " [16. 16. 16. 16.]]\n"
          ],
          "name": "stdout"
        }
      ]
    },
    {
      "cell_type": "markdown",
      "metadata": {
        "id": "1uMMDz8OKUxJ"
      },
      "source": [
        "#### 88. How to implement the Game of Life using numpy arrays? (★★★)"
      ]
    },
    {
      "cell_type": "code",
      "metadata": {
        "id": "2k4FImJTKUxK",
        "colab": {
          "base_uri": "https://localhost:8080/",
          "height": 131
        },
        "outputId": "f103d6be-0b3d-4b92-f9c1-df3a04f7c1e7"
      },
      "source": [
        "def iterate(Z):\n",
        "\n",
        "  # Count neighbours\n",
        "\n",
        "  N = (Z[0:-2,0:-2] + Z[0:-2,1:-1] + Z[0:-2,2:] +\n",
        "\n",
        "  Z[1:-1,0:-2] + Z[1:-1,2:] +\n",
        "\n",
        "  Z[2: ,0:-2] + Z[2: ,1:-1] + Z[2: ,2:])\n",
        "\n",
        "  # Apply rules\n",
        "\n",
        "  birth = (N==3) & (Z[1:-1,1:-1]==0)\n",
        "\n",
        "  survive = ((N==2) | (N==3)) & (Z[1:-1,1:-1]==1)\n",
        "\n",
        "  Z[...] = 0\n",
        "\n",
        "  Z[1:-1,1:-1][birth | survive] = 1\n",
        "\n",
        "  return Z\n",
        "\n",
        "Z = np.random.randint(0,2,(50,50))\n",
        "\n",
        "for i in range(100): Z = iterate(Z)\n",
        "\n",
        "  print(Z)"
      ],
      "execution_count": null,
      "outputs": [
        {
          "output_type": "error",
          "ename": "IndentationError",
          "evalue": "ignored",
          "traceback": [
            "\u001b[0;36m  File \u001b[0;32m\"<ipython-input-22-67e1515e9f6b>\"\u001b[0;36m, line \u001b[0;32m27\u001b[0m\n\u001b[0;31m    print(Z)\u001b[0m\n\u001b[0m    ^\u001b[0m\n\u001b[0;31mIndentationError\u001b[0m\u001b[0;31m:\u001b[0m unexpected indent\n"
          ]
        }
      ]
    },
    {
      "cell_type": "markdown",
      "metadata": {
        "id": "AfH_KwHJKUxK"
      },
      "source": [
        "#### 89. How to get the n largest values of an array (★★★) \n",
        "(**hint**: np.argsort | np.argpartition)"
      ]
    },
    {
      "cell_type": "code",
      "metadata": {
        "id": "mKIdkRfiKUxK",
        "colab": {
          "base_uri": "https://localhost:8080/"
        },
        "outputId": "ce8e2368-a8ca-4d42-c313-6ac5a4eba371"
      },
      "source": [
        "Z = np.arange(10000)\n",
        "\n",
        "np.random.shuffle(Z)\n",
        "\n",
        "n = 5\n",
        "\n",
        "\n",
        "\n",
        "print (Z[np.argsort(Z)[-n:]])"
      ],
      "execution_count": 13,
      "outputs": [
        {
          "output_type": "stream",
          "text": [
            "[9995 9996 9997 9998 9999]\n"
          ],
          "name": "stdout"
        }
      ]
    },
    {
      "cell_type": "markdown",
      "metadata": {
        "id": "IwTgrYsiKUxK"
      },
      "source": [
        "#### 90. Given an arbitrary number of vectors, build the cartesian product (every combinations of every item) (★★★) \n",
        "(**hint**: np.indices)"
      ]
    },
    {
      "cell_type": "code",
      "metadata": {
        "scrolled": true,
        "id": "IIKQ7VQzKUxK",
        "colab": {
          "base_uri": "https://localhost:8080/"
        },
        "outputId": "faadb3c8-8eab-4760-b3f8-aceeb0316231"
      },
      "source": [
        "def cartesian(arrays):\n",
        "\n",
        "  arrays = [np.asarray(a) for a in arrays]\n",
        "\n",
        "  shape = (len(x) for x in arrays)\n",
        "\n",
        "  ix = np.indices(shape, dtype=int)\n",
        "\n",
        "  ix = ix.reshape(len(arrays), -1).T\n",
        "\n",
        "  for n, arr in enumerate(arrays):\n",
        "\n",
        "    ix[:, n] = arrays[n][ix[:, n]]\n",
        "\n",
        "  return ix\n",
        "\n",
        "print (cartesian(([1, 2, 3], [4, 5], [6, 7])))"
      ],
      "execution_count": 11,
      "outputs": [
        {
          "output_type": "stream",
          "text": [
            "[[1 4 6]\n",
            " [1 4 7]\n",
            " [1 5 6]\n",
            " [1 5 7]\n",
            " [2 4 6]\n",
            " [2 4 7]\n",
            " [2 5 6]\n",
            " [2 5 7]\n",
            " [3 4 6]\n",
            " [3 4 7]\n",
            " [3 5 6]\n",
            " [3 5 7]]\n"
          ],
          "name": "stdout"
        }
      ]
    },
    {
      "cell_type": "markdown",
      "metadata": {
        "id": "qNL8e6eEKUxL"
      },
      "source": [
        "#### 91. How to create a record array from a regular array? (★★★) \n",
        "(**hint**: np.core.records.fromarrays)"
      ]
    },
    {
      "cell_type": "code",
      "metadata": {
        "id": "jlG5oaLbKUxL",
        "colab": {
          "base_uri": "https://localhost:8080/"
        },
        "outputId": "549c67df-07b0-44b4-eabc-6a743ac429ee"
      },
      "source": [
        "Z = np.array([(\"Hello\", 2.5, 3),\n",
        "\n",
        "(\"World\", 3.6, 2)])\n",
        "\n",
        "R = np.core.records.fromarrays(Z.T,\n",
        "\n",
        "names='col1, col2, col3',\n",
        "\n",
        "formats = 'S8, f8, i8')\n",
        "\n",
        "print(R)"
      ],
      "execution_count": 9,
      "outputs": [
        {
          "output_type": "stream",
          "text": [
            "[(b'Hello', 2.5, 3) (b'World', 3.6, 2)]\n"
          ],
          "name": "stdout"
        }
      ]
    },
    {
      "cell_type": "markdown",
      "metadata": {
        "id": "uG-NKmFCKUxL"
      },
      "source": [
        "#### 92. Consider a large vector Z, compute Z to the power of 3 using 3 different methods (★★★) \n",
        "(**hint**: np.power, \\*, np.einsum)"
      ]
    },
    {
      "cell_type": "code",
      "metadata": {
        "id": "uKIFlRc6KUxL",
        "colab": {
          "base_uri": "https://localhost:8080/"
        },
        "outputId": "de55b106-cc46-4791-fa1e-49575b74edaa"
      },
      "source": [
        "x = np.random.rand(1,100)\n",
        "\n",
        "%timeit np.power(x,3)\n",
        "\n",
        "%timeit x * x * x"
      ],
      "execution_count": null,
      "outputs": [
        {
          "output_type": "stream",
          "text": [
            "The slowest run took 7.44 times longer than the fastest. This could mean that an intermediate result is being cached.\n",
            "100000 loops, best of 5: 8.91 µs per loop\n",
            "The slowest run took 12.56 times longer than the fastest. This could mean that an intermediate result is being cached.\n",
            "1000000 loops, best of 5: 1.25 µs per loop\n"
          ],
          "name": "stdout"
        }
      ]
    },
    {
      "cell_type": "markdown",
      "metadata": {
        "id": "f-1emVbfKUxL"
      },
      "source": [
        "#### 93. Consider two arrays A and B of shape (8,3) and (2,2). How to find rows of A that contain elements of each row of B regardless of the order of the elements in B? (★★★) \n",
        "(**hint**: np.where)"
      ]
    },
    {
      "cell_type": "code",
      "metadata": {
        "id": "65c-FE01KUxM",
        "colab": {
          "base_uri": "https://localhost:8080/"
        },
        "outputId": "d3864245-84ea-419e-ca1b-2b4763c057c9"
      },
      "source": [
        "A = np.random.randint(0,5,(8,3))\n",
        "\n",
        "B = np.random.randint(0,5,(2,2))\n",
        "\n",
        "C = (A[..., np.newaxis, np.newaxis] == B)\n",
        "\n",
        "rows = (C.sum(axis=(1,2,3)) >= B.shape[1]).nonzero()[0]\n",
        "\n",
        "print(rows)"
      ],
      "execution_count": 8,
      "outputs": [
        {
          "output_type": "stream",
          "text": [
            "[0 1 2 3 4 7]\n"
          ],
          "name": "stdout"
        }
      ]
    },
    {
      "cell_type": "markdown",
      "metadata": {
        "id": "2wkB0IELKUxM"
      },
      "source": [
        "#### 94. Considering a 10x3 matrix, extract rows with unequal values (e.g. \\[2,2,3\\]) (★★★)"
      ]
    },
    {
      "cell_type": "code",
      "metadata": {
        "id": "qbE0HdEdKUxM",
        "colab": {
          "base_uri": "https://localhost:8080/"
        },
        "outputId": "2b23260d-5f0f-490a-c476-cca48971fbe0"
      },
      "source": [
        "Z = np.random.randint(0,5,(10,3))\n",
        "\n",
        "E = np.logical_and.reduce(Z[:,1:] == Z[:,:-1], axis=1)\n",
        "\n",
        "U = Z[~E]\n",
        "\n",
        "print(Z)\n",
        "\n",
        "print(U)"
      ],
      "execution_count": null,
      "outputs": [
        {
          "output_type": "stream",
          "text": [
            "[[1 1 2]\n",
            " [4 4 1]\n",
            " [4 3 1]\n",
            " [1 4 3]\n",
            " [0 1 3]\n",
            " [2 0 0]\n",
            " [0 1 2]\n",
            " [2 2 0]\n",
            " [2 0 1]\n",
            " [1 3 4]]\n",
            "[[1 1 2]\n",
            " [4 4 1]\n",
            " [4 3 1]\n",
            " [1 4 3]\n",
            " [0 1 3]\n",
            " [2 0 0]\n",
            " [0 1 2]\n",
            " [2 2 0]\n",
            " [2 0 1]\n",
            " [1 3 4]]\n"
          ],
          "name": "stdout"
        }
      ]
    },
    {
      "cell_type": "markdown",
      "metadata": {
        "id": "Ctt6wC44KUxM"
      },
      "source": [
        "#### 95. Convert a vector of ints into a matrix binary representation (★★★) \n",
        "(**hint**: np.unpackbits)"
      ]
    },
    {
      "cell_type": "code",
      "metadata": {
        "colab": {
          "base_uri": "https://localhost:8080/"
        },
        "id": "1EyNKKfZE11W",
        "outputId": "dc82da1e-c585-4a14-94f1-09cfcd08d2cf"
      },
      "source": [
        "print( (2**np.arange(8)))\n",
        "print(3 & 1 )\n",
        "print(3 & 2)\n",
        "print(3 & 4)\n",
        "print(3 & 8)\n"
      ],
      "execution_count": null,
      "outputs": [
        {
          "output_type": "stream",
          "text": [
            "[  1   2   4   8  16  32  64 128]\n",
            "1\n",
            "2\n",
            "0\n",
            "0\n"
          ],
          "name": "stdout"
        }
      ]
    },
    {
      "cell_type": "code",
      "metadata": {
        "colab": {
          "base_uri": "https://localhost:8080/"
        },
        "id": "koH8pBIPCnHF",
        "outputId": "ff442654-5346-4fac-b4b1-dc0da2cdb2eb"
      },
      "source": [
        "\n",
        "print(((I.reshape(-1,1) & (2**np.arange(8)))))"
      ],
      "execution_count": null,
      "outputs": [
        {
          "output_type": "stream",
          "text": [
            "[[  0   0   0   0   0   0   0   0]\n",
            " [  1   0   0   0   0   0   0   0]\n",
            " [  0   2   0   0   0   0   0   0]\n",
            " [  1   2   0   0   0   0   0   0]\n",
            " [  1   2   4   8   0   0   0   0]\n",
            " [  0   0   0   0  16   0   0   0]\n",
            " [  0   0   0   0   0  32   0   0]\n",
            " [  0   0   0   0   0   0  64   0]\n",
            " [  0   0   0   0   0   0   0 128]\n",
            " [  1   2   0   8   0   0   0   0]]\n"
          ],
          "name": "stdout"
        }
      ]
    },
    {
      "cell_type": "code",
      "metadata": {
        "id": "TeH9iFrhKUxM",
        "colab": {
          "base_uri": "https://localhost:8080/"
        },
        "outputId": "7f490dd3-a5dc-41b1-bb7b-539dd78a3e1b"
      },
      "source": [
        "I = np.array([0, 1, 2, 3, 15, 16, 32, 64, 128,11])\n",
        "B = ((I.reshape(-1,1) & (2**np.arange(8))) != 0).astype(int)\n",
        "\n",
        "print(B[:,::-1])\n"
      ],
      "execution_count": null,
      "outputs": [
        {
          "output_type": "stream",
          "text": [
            "[[0 0 0 0 0 0 0 0]\n",
            " [0 0 0 0 0 0 0 1]\n",
            " [0 0 0 0 0 0 1 0]\n",
            " [0 0 0 0 0 0 1 1]\n",
            " [0 0 0 0 1 1 1 1]\n",
            " [0 0 0 1 0 0 0 0]\n",
            " [0 0 1 0 0 0 0 0]\n",
            " [0 1 0 0 0 0 0 0]\n",
            " [1 0 0 0 0 0 0 0]\n",
            " [0 0 0 0 1 0 1 1]]\n"
          ],
          "name": "stdout"
        }
      ]
    },
    {
      "cell_type": "markdown",
      "metadata": {
        "id": "Exfndw7bKUxM"
      },
      "source": [
        "#### 96. Given a two dimensional array, how to extract unique rows? (★★★) \n",
        "(**hint**: np.ascontiguousarray)"
      ]
    },
    {
      "cell_type": "code",
      "metadata": {
        "id": "d7-XmmHAKUxN",
        "colab": {
          "base_uri": "https://localhost:8080/"
        },
        "outputId": "ef9630e4-2063-42eb-c611-018bdeff7f76"
      },
      "source": [
        "Z = np.random.randint(0,2,(6,3))\n",
        "\n",
        "T = np.ascontiguousarray(Z).view(np.dtype((np.void, Z.dtype.itemsize * Z.shape[1])))\n",
        "\n",
        "_, idx = np.unique(T, return_index=True)\n",
        "\n",
        "uZ = Z[idx]\n",
        "\n",
        "print(uZ)"
      ],
      "execution_count": 7,
      "outputs": [
        {
          "output_type": "stream",
          "text": [
            "[[0 0 1]\n",
            " [0 1 0]\n",
            " [0 1 1]\n",
            " [1 0 0]\n",
            " [1 0 1]]\n"
          ],
          "name": "stdout"
        }
      ]
    },
    {
      "cell_type": "markdown",
      "metadata": {
        "id": "UHMjmybyKUxN"
      },
      "source": [
        "#### 97. Considering 2 vectors A & B, write the einsum equivalent of inner, outer, sum, and mul function (★★★) \n",
        "(**hint**: np.einsum)"
      ]
    },
    {
      "cell_type": "code",
      "metadata": {
        "id": "YdEw2cOgKUxN",
        "colab": {
          "base_uri": "https://localhost:8080/"
        },
        "outputId": "c0625c00-71ef-415b-a912-63ed535fa1fb"
      },
      "source": [
        "A = np.random.uniform(0,1,10)\n",
        "\n",
        "B = np.random.uniform(0,1,10)\n",
        "\n",
        "np.einsum('i->', A) # np.sum(A)\n",
        "\n",
        "np.einsum('i,i->i', A, B) # A * B\n",
        "\n",
        "np.einsum('i,i', A, B) # np.inner(A, B)\n",
        "\n",
        "np.einsum('i,j', A, B) # np.outer(A, B)"
      ],
      "execution_count": 6,
      "outputs": [
        {
          "output_type": "execute_result",
          "data": {
            "text/plain": [
              "array([[0.51334686, 0.62413318, 0.3999606 , 0.14083924, 0.61310109,\n",
              "        0.38141588, 0.64612469, 0.0638608 , 0.11867049, 0.30700973],\n",
              "       [0.61257076, 0.74477077, 0.47726827, 0.1680618 , 0.73160631,\n",
              "        0.45513908, 0.77101299, 0.07620434, 0.1416081 , 0.36635109],\n",
              "       [0.21915752, 0.2664543 , 0.17075077, 0.06012694, 0.26174449,\n",
              "        0.16283368, 0.2758429 , 0.02726339, 0.05066269, 0.13106828],\n",
              "       [0.06767684, 0.0822823 , 0.05272861, 0.01856747, 0.08082789,\n",
              "        0.05028378, 0.08518154, 0.00841906, 0.01564487, 0.04047448],\n",
              "       [0.31691747, 0.385312  , 0.24691784, 0.08694787, 0.37850128,\n",
              "        0.23546916, 0.39888858, 0.03942481, 0.07326187, 0.18953412],\n",
              "       [0.47958511, 0.58308524, 0.37365602, 0.13157653, 0.5727787 ,\n",
              "        0.35633095, 0.60363042, 0.05966081, 0.11086578, 0.28681834],\n",
              "       [0.62353804, 0.75810492, 0.48581313, 0.17107073, 0.74470476,\n",
              "        0.46328775, 0.78481697, 0.07756868, 0.14414341, 0.37291013],\n",
              "       [0.755147  , 0.91811665, 0.58835276, 0.2071783 , 0.90188815,\n",
              "        0.56107299, 0.95046676, 0.09394095, 0.17456748, 0.45161955],\n",
              "       [0.48524777, 0.58996997, 0.37806793, 0.13313011, 0.57954174,\n",
              "        0.3605383 , 0.61075774, 0.06036525, 0.11217482, 0.29020492],\n",
              "       [0.05409289, 0.06576678, 0.04214504, 0.01484065, 0.0646043 ,\n",
              "        0.04019093, 0.06808409, 0.0067292 , 0.01250466, 0.03235053]])"
            ]
          },
          "metadata": {
            "tags": []
          },
          "execution_count": 6
        }
      ]
    },
    {
      "cell_type": "markdown",
      "metadata": {
        "id": "AaVRjm8yKUxN"
      },
      "source": [
        "#### 98. Considering a path described by two vectors (X,Y), how to sample it using equidistant samples (★★★)? \n",
        "(**hint**: np.cumsum, np.interp)"
      ]
    },
    {
      "cell_type": "code",
      "metadata": {
        "collapsed": true,
        "id": "ZFEThDpxKUxN"
      },
      "source": [
        "phi = np.arange(0, 10*np.pi, 0.1)\n",
        "\n",
        "a = 1\n",
        "\n",
        "x = a*phi*np.cos(phi)\n",
        "\n",
        "y = a*phi*np.sin(phi)\n",
        "\n",
        "dr = (np.diff(x)**2 + np.diff(y)**2)**.5\n",
        "\n",
        "r = np.zeros_like(x)\n",
        "\n",
        "r[1:] = np.cumsum(dr)\n",
        "\n",
        "r_int = np.linspace(0, r.max(), 200)\n",
        "x_int = np.interp(r_int, r, x) \n",
        "\n",
        "y_int = np.interp(r_int, r, y)"
      ],
      "execution_count": 5,
      "outputs": []
    },
    {
      "cell_type": "markdown",
      "metadata": {
        "id": "CpfCqb_5KUxO"
      },
      "source": [
        "#### 99. Given an integer n and a 2D array X, select from X the rows which can be interpreted as draws from a multinomial distribution with n degrees, i.e., the rows which only contain integers and which sum to n. (★★★) \n",
        "(**hint**: np.logical\\_and.reduce, np.mod)"
      ]
    },
    {
      "cell_type": "code",
      "metadata": {
        "id": "dKgo3gKkKUxO",
        "colab": {
          "base_uri": "https://localhost:8080/"
        },
        "outputId": "e1bb9e0c-4df7-4ad0-f614-8d60a960737a"
      },
      "source": [
        "X = np.asarray([[1.0, 0.0, 3.0, 8.0],\n",
        "\n",
        "[2.0, 0.0, 1.0, 1.0],\n",
        "\n",
        "[1.5, 2.5, 1.0, 0.0]])\n",
        "\n",
        "n = 4\n",
        "\n",
        "M = np.logical_and.reduce(np.mod(X, 1) == 0, axis=-1)\n",
        "\n",
        "M &= (X.sum(axis=-1) == n)\n",
        "\n",
        "print(X[M])"
      ],
      "execution_count": 4,
      "outputs": [
        {
          "output_type": "stream",
          "text": [
            "[[2. 0. 1. 1.]]\n"
          ],
          "name": "stdout"
        }
      ]
    },
    {
      "cell_type": "markdown",
      "metadata": {
        "id": "RyED7YnQKUxO"
      },
      "source": [
        "#### 100. Compute bootstrapped 95% confidence intervals for the mean of a 1D array X (i.e., resample the elements of an array with replacement N times, compute the mean of each sample, and then compute percentiles over the means). (★★★) \n",
        "(**hint**: np.percentile)"
      ]
    },
    {
      "cell_type": "code",
      "metadata": {
        "id": "g4JWdVJOKUxO",
        "colab": {
          "base_uri": "https://localhost:8080/"
        },
        "outputId": "755e1d11-91b9-4e8d-f20f-8c115f751eed"
      },
      "source": [
        "X = np.random.randn(100) \n",
        "N = 1000 \n",
        "\n",
        "idx = np.random.randint(0, X.size, (N, X.size))\n",
        "\n",
        "means = X[idx].mean(axis=1)\n",
        "\n",
        "confint = np.percentile(means, [2.5, 97.5])\n",
        "\n",
        "print(confint)"
      ],
      "execution_count": 3,
      "outputs": [
        {
          "output_type": "stream",
          "text": [
            "[-0.25531624  0.13614449]\n"
          ],
          "name": "stdout"
        }
      ]
    },
    {
      "cell_type": "code",
      "metadata": {
        "id": "OpAxPcSTSfOW"
      },
      "source": [
        ""
      ],
      "execution_count": null,
      "outputs": []
    }
  ]
}